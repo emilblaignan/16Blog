{
 "cells": [
  {
   "cell_type": "raw",
   "id": "bd4a473c-698d-4f02-a7c0-28481b92ffa5",
   "metadata": {},
   "source": [
    "---\n",
    "title: \"Exploring Palmer Penguins Data: Seaborn Data Visualization With Heat Maps\"\n",
    "author: \"Emil Blaignan\"\n",
    "date: \"2025-01-21\"\n",
    "categories: [Week 3, HW0]\n",
    "toc: true\n",
    "toc-depth: 2\n",
    "---"
   ]
  },
  {
   "cell_type": "markdown",
   "id": "3b0adba5-bcc6-4ff5-9c94-aab117b926c1",
   "metadata": {},
   "source": [
    "![](download-1.png){fig-width=300}"
   ]
  },
  {
   "cell_type": "markdown",
   "id": "f7feb8e8-9e22-4283-8477-67895ad6cfde",
   "metadata": {
    "tags": []
   },
   "source": [
    "## Introduction ##"
   ]
  },
  {
   "cell_type": "markdown",
   "id": "23450d07-3fd9-46f7-a768-11f7f2c63b07",
   "metadata": {},
   "source": [
    "The Palmer Penguins dataset contains measurements of penguin species from the Palmer Archipelago in Antarctica, including numeric measurements like culmen(bill) length, flipper length, and body mass. In this blog, we will learn how to construct a heatmap to explore correlations between these numerical features across the three penguin species: Adelie, Chinstrap, and Gentoo."
   ]
  },
  {
   "cell_type": "markdown",
   "id": "11f21f45-27bc-482f-a161-c359f88e783a",
   "metadata": {},
   "source": [
    "## Read in and Inspect the Data ##"
   ]
  },
  {
   "cell_type": "markdown",
   "id": "cbafe9d1-d9e4-4391-bc5e-b1b0790ce37b",
   "metadata": {},
   "source": [
    "We will begin by reading the data into Python by running:"
   ]
  },
  {
   "cell_type": "code",
   "execution_count": null,
   "id": "fd5a282a-1fe7-4730-a939-0e911d1d3751",
   "metadata": {},
   "outputs": [],
   "source": [
    "import pandas as pd\n",
    "url = \"https://raw.githubusercontent.com/pic16b-ucla/24W/main/datasets/palmer_penguins.csv\"\n",
    "penguins = pd.read_csv(url)"
   ]
  },
  {
   "cell_type": "markdown",
   "id": "da38ad36-2711-4938-8285-0a59674dd6d5",
   "metadata": {},
   "source": [
    "The first line imports the Pandas package into our project. We will use it to read the CSV file and manipulate/analyze data. After setting the variable “url” to our CSV URL, we can use the Pandas read CSV function to store the data frame as “penguins.”\n",
    "\n",
    "Next, we will inspect the data by running:"
   ]
  },
  {
   "cell_type": "code",
   "execution_count": null,
   "id": "0a3efe12-eef0-45e5-96ba-892f9a58a14f",
   "metadata": {},
   "outputs": [],
   "source": [
    "penguins.head()"
   ]
  },
  {
   "cell_type": "markdown",
   "id": "58cc04e3-5f29-40d1-93c2-a4679659fed4",
   "metadata": {},
   "source": [
    "![Palmer Penguin data first 5 rows output](penguin_data_head.png)"
   ]
  },
  {
   "cell_type": "markdown",
   "id": "ad0742d6-2d3e-423a-ae70-c046b97a50c6",
   "metadata": {},
   "source": [
    "## Cleaning Our Data ##"
   ]
  },
  {
   "cell_type": "markdown",
   "id": "17d880eb-ad0a-41a0-be79-ad418a00a4bc",
   "metadata": {},
   "source": [
    "Analyzing the first five rows of the data reveals the columns we need to focus on. Since we want to find correlations between culmen length, depth, flipper length, and body mass for each species, we must manipulate the data frame to include only the relevant columns. We can achieve this using the iloc function.\n",
    "\n",
    "We can create a new data frame with our selected columns by running the following code:"
   ]
  },
  {
   "cell_type": "code",
   "execution_count": null,
   "id": "d9bf1644-0d35-45c0-8f22-d983ddb44ddd",
   "metadata": {},
   "outputs": [],
   "source": [
    "# iloc selects columns from penguins data frame using column index positions\n",
    "# ':' selects all rows from the DataFrame\n",
    "#  '[2, 9, 10, 11, 12]' selects the columns at index positions 2, 9, 10, 11, and 12\n",
    "penguin_data = penguins.iloc[:,[2,9,10,11,12]]"
   ]
  },
  {
   "cell_type": "markdown",
   "id": "a7e394ee-d1ab-4699-b92a-0c2454660605",
   "metadata": {},
   "source": [
    "The output will return a data frame, asigned to \"penguin_data,\" with only our desired columns. However, we still need to clean the data. Some rows in our data frame are missing inputs indicated by “NaN.” We can remove those rows with the “dropna” function.\n",
    "\n",
    "Running the following code will remove all rows with missing data:"
   ]
  },
  {
   "cell_type": "code",
   "execution_count": null,
   "id": "7e701332-766d-4983-b310-ce2b5e5557dd",
   "metadata": {},
   "outputs": [],
   "source": [
    "# removes rows with missing values \"NaN\"\n",
    "penguin_data = penguin_data.dropna()"
   ]
  },
  {
   "cell_type": "markdown",
   "id": "cead7b89-0c91-4452-9082-a9f39005a863",
   "metadata": {},
   "source": [
    "We can again check what our data looks like now by running:"
   ]
  },
  {
   "cell_type": "code",
   "execution_count": null,
   "id": "82f0e20d-fe42-4fc7-b0dc-3d32c2276e5b",
   "metadata": {},
   "outputs": [],
   "source": [
    "penguin_data.head()"
   ]
  },
  {
   "cell_type": "markdown",
   "id": "5f9a168f-0368-4e6b-bc61-79dc84f364aa",
   "metadata": {},
   "source": [
    "![Palmer Penguin cleaned data first 5 rows output](penguin_data_cleaned_head.png)"
   ]
  },
  {
   "cell_type": "markdown",
   "id": "988ae04e-20cf-40d7-945d-1764db17da09",
   "metadata": {},
   "source": [
    "With this, our data looks ready to be used."
   ]
  },
  {
   "cell_type": "markdown",
   "id": "e2104eaf-34ea-4664-8db3-c0e279ee0b9f",
   "metadata": {},
   "source": [
    "## Create Correlation Heat Maps by Species ##"
   ]
  },
  {
   "cell_type": "markdown",
   "id": "9b61a026-9dd1-44d3-8211-88a38e26944b",
   "metadata": {},
   "source": [
    "First, we must import the relevant packages for our correlation heat maps:"
   ]
  },
  {
   "cell_type": "code",
   "execution_count": null,
   "id": "243eb301-c725-426f-af25-0d2588bafabc",
   "metadata": {},
   "outputs": [],
   "source": [
    "import seaborn as sns # Used for plotting the heat map visualization\n",
    "import matplotlib.pyplot as plt # Used to for annotating visualization and giving specs"
   ]
  },
  {
   "cell_type": "markdown",
   "id": "f697dffb-23aa-408b-b516-6fc30bdba8b3",
   "metadata": {},
   "source": [
    "Since we want to create heat maps for each penguin species, we must write a function that 1.) groups the data by species, 2.) calculates the correlation matrix for each group, and 3.) plots the matrices of each group. \n",
    "\n",
    "Let’s name the function: “palmer_penguin_heatmap,” which takes in our data frame, a key that will group our data by (in our case, “Species”), and a list of columns that we would like to include in the correlation.\n",
    "\n",
    "Running the following code will establish our function:"
   ]
  },
  {
   "cell_type": "code",
   "execution_count": null,
   "id": "47c1a1a1-ba13-4163-aac7-6093fd5acc8f",
   "metadata": {},
   "outputs": [],
   "source": [
    "def palmer_penguin_heatmap(dataset, key, cols):\n",
    "    \"\"\"\n",
    "    Calculates the correlation matrices for each species and plots the heatmap.\n",
    "\n",
    "    Params:\n",
    "    -> dataset (pandas df): The dataset (penguin_data).\n",
    "    -> key (str): Column that will group data by (\"Species\").\n",
    "    -> cols (list): List of columns for correlation analysis.\n",
    "    \"\"\"\n",
    "    grouped = dataset.groupby(key) # groups data set by species\n",
    "    \n",
    "    for species, group in grouped:\n",
    "        corr_matrix = group[cols].corr()  # Calculate correlation matrix\n",
    "        plt.figure(figsize=(8, 6))  # Create a new figure\n",
    "        sns.heatmap(corr_matrix, annot=True, cmap='crest', fmt=\".2f\")  # Plots heatmap\n",
    "        plt.title(f\"Correlation Matrix for {species} Penguins\")  # Add title for given species\n",
    "        plt.show()  # Display the heatmap"
   ]
  },
  {
   "cell_type": "markdown",
   "id": "ffed0bb9-7112-496e-bed4-059738d3d83e",
   "metadata": {},
   "source": [
    "After running our function, we are almost ready to call the function with our parameters. We have our data set and key right now, but we must define which columns we want to use for the correlation analysis.\n",
    "\n",
    "We can do this by running:"
   ]
  },
  {
   "cell_type": "code",
   "execution_count": null,
   "id": "34250d4a-5182-42ce-bcd1-fb8faf185c3b",
   "metadata": {},
   "outputs": [],
   "source": [
    "# Stores a list of column names that we wish to analyze \n",
    "num_cols = ['Culmen Length (mm)', 'Culmen Depth (mm)', 'Flipper Length (mm)', 'Body Mass (g)']"
   ]
  },
  {
   "cell_type": "markdown",
   "id": "ece52ba5-0e6e-48ff-890d-57794f5cb241",
   "metadata": {},
   "source": [
    "We are ready to call our function “palmer_penguin_heatmap” with our three parameters. We should expect our output to be three heat maps for Adelie, Chinstrap, and Gentoo.\n",
    "\n",
    "We can call our function by running:"
   ]
  },
  {
   "cell_type": "code",
   "execution_count": null,
   "id": "97323b7c-3771-422f-a2e4-f2747a4b8669",
   "metadata": {},
   "outputs": [],
   "source": [
    "# Calls the function with our penguin data, groupby key, and target columns\n",
    "palmer_penguin_heatmap(dataset = penguin_data, key = 'Species', cols = num_col)"
   ]
  },
  {
   "cell_type": "markdown",
   "id": "f9159ae5-8b63-427b-b813-09de59e80006",
   "metadata": {},
   "source": [
    "Our outputs should look as follows:"
   ]
  },
  {
   "cell_type": "markdown",
   "id": "c2c88cdf-896c-4c5b-8640-a8efc28108d4",
   "metadata": {},
   "source": [
    "![Adelie Heatmap](download-1.png)\n",
    "![Chinstrap Heatmap](download-2.png)\n",
    "![Gentoo Heatmap](download-3.png)"
   ]
  },
  {
   "cell_type": "markdown",
   "id": "a7c5e753-1d0e-44c8-875c-7615df6c2a03",
   "metadata": {},
   "source": [
    "## Interpreting the Heat Maps ##"
   ]
  },
  {
   "cell_type": "markdown",
   "id": "77617a8b-df8b-4f0a-8537-83117d88a6bb",
   "metadata": {},
   "source": [
    "Each heat map is titled with the corresponding species and labeled with measurements to help us interpret the data. Heat maps visualize correlation matrices. The color-coded squares help the viewer interpret higher correlations (denoted by the color bar on the right of the heat map). Thus, each square corresponds to the correlation of two select columns (measurements). As seen by the dark squares, any measurement compared to itself correlates to 1.00. These squares help us see where specific measurements may be associated with others. For example, we can claim that flipper length corresponds to higher body masses for Gentoo penguins since we observe a strong positive correlation (0.72). For this reason, heat maps are a useful first visualization for large data sets to spot patterns that can be further explored."
   ]
  },
  {
   "cell_type": "code",
   "execution_count": null,
   "id": "530a7079-dd2f-44c3-b594-1d125abf274c",
   "metadata": {},
   "outputs": [],
   "source": []
  }
 ],
 "metadata": {
  "kernelspec": {
   "display_name": "Python 3 (ipykernel)",
   "language": "python",
   "name": "python3"
  },
  "language_info": {
   "codemirror_mode": {
    "name": "ipython",
    "version": 3
   },
   "file_extension": ".py",
   "mimetype": "text/x-python",
   "name": "python",
   "nbconvert_exporter": "python",
   "pygments_lexer": "ipython3",
   "version": "3.11.5"
  }
 },
 "nbformat": 4,
 "nbformat_minor": 5
}
