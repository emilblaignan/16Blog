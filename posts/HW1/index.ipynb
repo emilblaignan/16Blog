{
 "cells": [
  {
   "cell_type": "raw",
   "id": "623036fb-5dfe-458f-a812-ab2ce816579d",
   "metadata": {
    "tags": []
   },
   "source": [
    "---\n",
    "title: \"Exploring NOAA Climate Data: SQL Queries, Trend Analysis, and Advanced Visualizations with Plotly\"\n",
    "author: \"Emil Blaignan\"\n",
    "date: \"2025-02-01\"\n",
    "categories: [Week 4, HW1]\n",
    "toc: true\n",
    "toc-depth: 3\n",
    "---"
   ]
  },
  {
   "cell_type": "code",
   "execution_count": 4,
   "id": "193097ea-f8f3-4c33-ac29-f3a9e5a57aef",
   "metadata": {
    "tags": []
   },
   "outputs": [],
   "source": [
    "#| echo: false\n",
    "\n",
    "import plotly.io as pio\n",
    "pio.renderers.default=\"iframe\""
   ]
  },
  {
   "cell_type": "markdown",
   "id": "8bad710d-6914-48b3-92bd-e328dbe7b96f",
   "metadata": {},
   "source": [
    "![3D Scatter Plot of Monthly Average Temperature by Latitude for Australia](3D_temp_plot.png)"
   ]
  },
  {
   "cell_type": "markdown",
   "id": "5c0aa87e-582f-43cd-b7c4-07ff95940b0d",
   "metadata": {},
   "source": [
    "## Introduction ##"
   ]
  },
  {
   "cell_type": "markdown",
   "id": "192743d2-0624-423c-a303-93289fb7aa2c",
   "metadata": {},
   "source": [
    "The NOAA Climate Data provides an extensive record of global temperature trends, collected from thousands of weather stations across various geographic regions. This dataset is important for analyzing long-term climate patterns, regional warming trends, and the impacts of climate change. In this blog, we will explore how to construct and query an SQL database to efficiently retrieve climate data, apply filtering techniques, and compute meaningful temperature trends. Additionally, we will leverage Plotly to create complex visualizations, including scatter map boxes, 3D plots, and faceted box plots, to uncover insights into global and regional temperature changes over time."
   ]
  },
  {
   "cell_type": "markdown",
   "id": "043c23d7-eb31-412b-9069-7b6d55c0cec3",
   "metadata": {},
   "source": [
    "## Creating an SQL Database ##"
   ]
  },
  {
   "cell_type": "markdown",
   "id": "ec5d7913-af00-483f-88f1-340a8c01d5db",
   "metadata": {},
   "source": [
    "Our first objective is to create an SQL database containing three data frames for temperatures, stations, and countries. We will begin with the temperature data as it is the most difficult."
   ]
  },
  {
   "cell_type": "markdown",
   "id": "e2cc40d5-5740-4aea-8226-a7b941babbea",
   "metadata": {},
   "source": [
    "### Downloading NOAA Temperature Data ###"
   ]
  },
  {
   "cell_type": "markdown",
   "id": "73c41eac-7057-4915-bac3-ffeaa5ded69b",
   "metadata": {},
   "source": [
    "We start by creating a folder, titled \"datafiles,\" in the same location as our ipynb to store our CSV files:"
   ]
  },
  {
   "cell_type": "code",
   "execution_count": 7,
   "id": "2c75ae3f-d4b8-4dbd-ab4e-eba7e9916cda",
   "metadata": {
    "tags": []
   },
   "outputs": [],
   "source": [
    "import os\n",
    "# create folder named \"datafiles\" if it does not exist\n",
    "if not os.path.exists(\"datafiles\"): \n",
    "    os.mkdir(\"datafiles\")"
   ]
  },
  {
   "cell_type": "markdown",
   "id": "c85de1ab-4108-42da-b3aa-6ea46aadc443",
   "metadata": {},
   "source": [
    "For our purpose, we will load climate data from 1901-2020. We first need to download the raw data from the GitHub URL containing the NOAA climate data. The dataset is split into decadal CSV files (e.g., 1901-1910.csv, 1911-1920.csv, etc). The script constructs URLs and downloads each file (saving it to datafiles/ folder):"
   ]
  },
  {
   "cell_type": "code",
   "execution_count": 8,
   "id": "a6c8ad06-d771-4c18-828b-412142a3aa82",
   "metadata": {
    "tags": []
   },
   "outputs": [],
   "source": [
    "import urllib.request\n",
    "# List comprehension to construct decadal files\n",
    "intervals = [f\"{i}-{i+9}\" for i in range(1901, 2020, 10)] # 1901-1910 to 2011-2020\n",
    "# Cycles through and downloads each decade associated CSV\n",
    "for interval in intervals:\n",
    "    url = f\"https://raw.githubusercontent.com/PIC16B-ucla/24F/main/datasets/noaa-ghcn/decades/{interval}.csv\"\n",
    "    urllib.request.urlretrieve(url, f\"datafiles/{interval}.csv\")"
   ]
  },
  {
   "cell_type": "markdown",
   "id": "2aaceac5-2ea3-4ab9-ad1f-df601ddb6eb0",
   "metadata": {},
   "source": [
    "Once all our CSVs are downloaded into the datafiles folder, we are ready to create the database."
   ]
  },
  {
   "cell_type": "markdown",
   "id": "43b33f58-3d2c-4b32-a08a-0658fb68ecfb",
   "metadata": {},
   "source": [
    "### Creating Our SQL Database ###"
   ]
  },
  {
   "cell_type": "markdown",
   "id": "8835f2d1-84a5-4d93-bc80-0758d7f2d51f",
   "metadata": {},
   "source": [
    "We first want to import the necessary packages:"
   ]
  },
  {
   "cell_type": "code",
   "execution_count": 16,
   "id": "af253b63-4de8-4789-893f-b037cdb938e7",
   "metadata": {
    "tags": []
   },
   "outputs": [],
   "source": [
    "import sqlite3\n",
    "import pandas as pd\n",
    "import numpy as np"
   ]
  },
  {
   "cell_type": "markdown",
   "id": "2165d0ac-40e1-4a63-a4fc-8704145715f1",
   "metadata": {},
   "source": [
    "Next, we will establish the database titled `temps.db`:"
   ]
  },
  {
   "cell_type": "code",
   "execution_count": 10,
   "id": "1260168a-d87e-4eae-ae4a-a00a8edef885",
   "metadata": {
    "tags": []
   },
   "outputs": [],
   "source": [
    "# Establish a connection or (in this case) to create the SQLite database named \"temps.db\"\n",
    "conn = sqlite3.connect(\"temps.db\")"
   ]
  },
  {
   "cell_type": "markdown",
   "id": "03a6063f-52e9-42ca-8ede-7096692ca5f9",
   "metadata": {},
   "source": [
    "Before inserting the temperatures df into our database we need to write a function that will properly format the data frame. The raw NOAA dataset is stored in a wide format, where each row contains temperature readings for all 12 months of a given year. However, for effective querying and visualization, we need a long format where each row represents a single temperature reading for a specific month and year.\n",
    "\n",
    "We can write the following function that melts the data into long-format:"
   ]
  },
  {
   "cell_type": "code",
   "execution_count": 14,
   "id": "bb0a8626-49f9-4703-9eec-45f24bdb5fbe",
   "metadata": {
    "tags": []
   },
   "outputs": [],
   "source": [
    "def prepare_df(df):\n",
    "    \"\"\"\n",
    "    prepares a piece of wide format dataframe into a long format data frame\n",
    "    \"\"\"\n",
    "    # \"Melt\" converts monthly temperature columns into a single column\n",
    "    df = df.melt(\n",
    "        # Keep Station ID and Year as identifiers\n",
    "        id_vars=[\"ID\", \"Year\"],\n",
    "        # Select VALUE1 to VALUE12 (monthly temperature columns)\n",
    "        value_vars=[f\"VALUE{i}\" for i in range(1, 13)],\n",
    "        var_name=\"Month\",  # Column for month names\n",
    "        value_name=\"Temp\"  # Column for temperature values\n",
    "    )\n",
    "    # Clean the Month column (remove \"VALUE\" prefix and convert to integer)\n",
    "    df[\"Month\"] = df[\"Month\"].str[5:].astype(int)\n",
    "    # Convert temperature values to Celsius\n",
    "    df[\"Temp\"] = df[\"Temp\"] / 100  \n",
    "    # Remove NaN values (invalid temperature readings)\n",
    "    df = df[~np.isnan(df[\"Temp\"])]\n",
    "\n",
    "    return df"
   ]
  },
  {
   "cell_type": "markdown",
   "id": "6ae19374-77ff-48d0-b95a-7c6cc1ba4c0a",
   "metadata": {},
   "source": [
    "Now that we have a callable function that will prepare our decadal temperature data frames, we are ready to add them to our temps database under a single table `temperatures`.\n",
    "\n",
    "The code below adds all data to the database (from individual CSV files):"
   ]
  },
  {
   "cell_type": "code",
   "execution_count": 18,
   "id": "31faa874-f53d-4b1f-b939-dc9c82be2d11",
   "metadata": {
    "tags": []
   },
   "outputs": [],
   "source": [
    "# Once again we define our intervals with list-comprehension\n",
    "intervals = [f\"{i}-{i+9}\" for i in range(1901, 2020, 10)]\n",
    "# For-loop interates every decadal CSV file\n",
    "for i, interval in enumerate(intervals):\n",
    "    filepath = f\"datafiles/{interval}.csv\"\n",
    "    # Reads in CSV file as pandas df\n",
    "    df = pd.read_csv(filepath)\n",
    "    # Calls function we defined above, converting each decadal df into long-format \n",
    "    df = prepare_df(df)\n",
    "    # Store data in the SQLite database \n",
    "    df.to_sql(\"temperatures\", conn, \n",
    "              if_exists = \"replace\" if i == 0 else \"append\", index = False)"
   ]
  },
  {
   "cell_type": "markdown",
   "id": "e09f1f21-8a53-4a3a-b077-5f9810769c8d",
   "metadata": {},
   "source": [
    "Thus, our temps database has one table `temperatures` with all our decade intervals. \n",
    "\n",
    "We continue by adding the stations' data next. The station data is much simpler, containing only one CSV file. Therefore, all we need to do is read the CSV as a pandas data frame, then add the data frame into our temps database as follows:"
   ]
  },
  {
   "cell_type": "code",
   "execution_count": 19,
   "id": "2a2d0d46-ed17-4502-b1c7-80fc8d254ed8",
   "metadata": {
    "tags": []
   },
   "outputs": [
    {
     "data": {
      "text/plain": [
       "27585"
      ]
     },
     "execution_count": 19,
     "metadata": {},
     "output_type": "execute_result"
    }
   ],
   "source": [
    "# Stores link to CSV data\n",
    "filename = \"https://raw.githubusercontent.com/PIC16B-ucla/25W/refs/heads/main/datasets/noaa-ghcn/station-metadata.csv\"\n",
    "# Reads in CSV\n",
    "stations = pd.read_csv(filename)\n",
    "# Adds the pandas df into the temps database as \"stations\"\n",
    "stations.to_sql(\"stations\", conn, if_exists = \"replace\", index=False)"
   ]
  },
  {
   "cell_type": "markdown",
   "id": "402bf55a-a030-4191-a5d3-41488b7ba078",
   "metadata": {},
   "source": [
    "We can repeat this process with the country data:"
   ]
  },
  {
   "cell_type": "code",
   "execution_count": 20,
   "id": "13867165-d393-49cd-a285-1288174ffbe3",
   "metadata": {
    "tags": []
   },
   "outputs": [
    {
     "data": {
      "text/plain": [
       "279"
      ]
     },
     "execution_count": 20,
     "metadata": {},
     "output_type": "execute_result"
    }
   ],
   "source": [
    "# Stores link to CSV data\n",
    "filename = \"https://raw.githubusercontent.com/mysociety/gaze/master/data/fips-10-4-to-iso-country-codes.csv\"\n",
    "# Reads in CSV\n",
    "countries = pd.read_csv(filename)\n",
    "# Adds the pandas df into the temps database as \"countries\"\n",
    "countries.to_sql(\"countries\", conn, if_exists = \"replace\", index=False)"
   ]
  },
  {
   "cell_type": "markdown",
   "id": "00d45d95-5f68-41fe-a3e3-d5d91ee720f4",
   "metadata": {},
   "source": [
    "At this point, we should have successfully added all three data frames to the temps database. To make sure that we did, we can run the following to see the contents of our database:"
   ]
  },
  {
   "cell_type": "code",
   "execution_count": 21,
   "id": "94198de0-29be-4308-87bd-83e6f37269c5",
   "metadata": {
    "tags": []
   },
   "outputs": [
    {
     "name": "stdout",
     "output_type": "stream",
     "text": [
      "[('temperatures',), ('stations',), ('countries',)]\n"
     ]
    }
   ],
   "source": [
    "cursor = conn.cursor()\n",
    "cursor.execute(\"SELECT name FROM sqlite_master WHERE type='table'\")\n",
    "print(cursor.fetchall())"
   ]
  },
  {
   "cell_type": "markdown",
   "id": "9679ef15-08bf-4b05-9081-ae6b00868768",
   "metadata": {},
   "source": [
    "As we can see, we have three tables: `temperatures`, `stations`, and `countries` so we are ready to proceed."
   ]
  },
  {
   "cell_type": "markdown",
   "id": "a2bd2e82-7eb0-4d90-9f82-7e8df88d9031",
   "metadata": {},
   "source": [
    "## Writing a Reusable SQL Query Function ##"
   ]
  },
  {
   "cell_type": "markdown",
   "id": "8de9f3ea-6b9f-43a2-8785-b19db0a03846",
   "metadata": {},
   "source": [
    "Now that our climate data is stored in an SQLite database, we need a way to retrieve specific temperature records based on user-defined filters. Instead of writing SQL queries manually every time, we’ll create a function that allows us to query data dynamically.\n",
    "\n",
    "In a seperate python file, `climate_database.py`, we will write a function called `query_climate_database()` which accepts five arguments:\n",
    "\n",
    "* `db_file`, the file name for the database.\n",
    "* `country`, a string giving the name of a country for which data should be returned.\n",
    "* `year_begin` and `year_end`, two integers giving the earliest and latest years for which should be returned (inclusive).\n",
    "* `month`, an integer giving the month of the year for which should be returned.\n",
    "\n"
   ]
  },
  {
   "cell_type": "markdown",
   "id": "b9127955-44a8-4eb7-bb85-6c89bc997354",
   "metadata": {},
   "source": [
    "After our function is written in `climate_database.py`, we may import the function and check if it is visible as follows:"
   ]
  },
  {
   "cell_type": "code",
   "execution_count": 24,
   "id": "8bff35c8-2d3b-43d6-abd7-ce37626d296e",
   "metadata": {
    "tags": []
   },
   "outputs": [
    {
     "name": "stdout",
     "output_type": "stream",
     "text": [
      "def query_climate_database(db_file, country, year_begin, year_end, month):\n",
      "    \"\"\"\n",
      "    Query the climate database for temperature readings in a specified country, date range, and month.\n",
      "\n",
      "    Parameters:\n",
      "    - db_file (str): The file name of the SQLite database (i.e. temps.db).\n",
      "    - country (str): Target country.\n",
      "    - year_begin (int): Start year.\n",
      "    - year_end (int): End year.\n",
      "    - month (int): The month of the year for which data should be returned (1-12).\n",
      "\n",
      "    Returns:\n",
      "    - pd.DataFrame: A data frame containing the \n",
      "    station name, latitude, longitude, country, year, month, and temperature.\n",
      "    \"\"\"\n",
      "    # Connect to the database\n",
      "    conn = sqlite3.connect(db_file)\n",
      "    \n",
      "    # Writes the SQL query using f-strings\n",
      "    query = f\"\"\"\n",
      "        SELECT \n",
      "            S.name AS NAME,\n",
      "            S.latitude AS LATITUDE,\n",
      "            S.longitude AS LONGITUDE,\n",
      "            C.name AS Country,\n",
      "            T.year AS Year,\n",
      "            T.month AS Month,\n",
      "            T.temp AS Temp\n",
      "        FROM \n",
      "            temperatures T\n",
      "        JOIN \n",
      "            stations S ON T.id = S.id\n",
      "        JOIN \n",
      "            countries C ON SUBSTR(S.id, 1, 2) = C.\"FIPS 10-4\" \n",
      "        WHERE \n",
      "            C.name = '{country}' AND\n",
      "            T.year BETWEEN '{year_begin}' AND '{year_end}' AND\n",
      "            T.month = '{month}'\n",
      "        ORDER BY\n",
      "            S.name ASC\n",
      "    \"\"\"\n",
      "    # Matches stations ID from the temps and stations tables\n",
      "    # Matches using countries: FIPS 10-4 with first two letters of ID from Stations\n",
      "    # Filters by country name, start/end year, and month\n",
      "    # Orders the station names in alphabetical order \n",
      "    df = pd.read_sql_query(query, conn)\n",
      "    # Close database\n",
      "    conn.close()\n",
      "    \n",
      "    return df\n",
      "\n"
     ]
    }
   ],
   "source": [
    "from climate_database import query_climate_database\n",
    "import inspect\n",
    "print(inspect.getsource(query_climate_database))"
   ]
  },
  {
   "cell_type": "markdown",
   "id": "62145864-36eb-465f-9156-36be3579afb2",
   "metadata": {},
   "source": [
    "To check if our query is properly working we can run the following:"
   ]
  },
  {
   "cell_type": "code",
   "execution_count": 25,
   "id": "86421073-47bc-4bfb-b1f8-d70788819dc2",
   "metadata": {
    "tags": []
   },
   "outputs": [
    {
     "data": {
      "text/html": [
       "<div>\n",
       "<style scoped>\n",
       "    .dataframe tbody tr th:only-of-type {\n",
       "        vertical-align: middle;\n",
       "    }\n",
       "\n",
       "    .dataframe tbody tr th {\n",
       "        vertical-align: top;\n",
       "    }\n",
       "\n",
       "    .dataframe thead th {\n",
       "        text-align: right;\n",
       "    }\n",
       "</style>\n",
       "<table border=\"1\" class=\"dataframe\">\n",
       "  <thead>\n",
       "    <tr style=\"text-align: right;\">\n",
       "      <th></th>\n",
       "      <th>NAME</th>\n",
       "      <th>LATITUDE</th>\n",
       "      <th>LONGITUDE</th>\n",
       "      <th>Country</th>\n",
       "      <th>Year</th>\n",
       "      <th>Month</th>\n",
       "      <th>Temp</th>\n",
       "    </tr>\n",
       "  </thead>\n",
       "  <tbody>\n",
       "    <tr>\n",
       "      <th>0</th>\n",
       "      <td>AGARTALA</td>\n",
       "      <td>23.883</td>\n",
       "      <td>91.250</td>\n",
       "      <td>India</td>\n",
       "      <td>1980</td>\n",
       "      <td>1</td>\n",
       "      <td>18.21</td>\n",
       "    </tr>\n",
       "    <tr>\n",
       "      <th>1</th>\n",
       "      <td>AGARTALA</td>\n",
       "      <td>23.883</td>\n",
       "      <td>91.250</td>\n",
       "      <td>India</td>\n",
       "      <td>1981</td>\n",
       "      <td>1</td>\n",
       "      <td>18.25</td>\n",
       "    </tr>\n",
       "    <tr>\n",
       "      <th>2</th>\n",
       "      <td>AGARTALA</td>\n",
       "      <td>23.883</td>\n",
       "      <td>91.250</td>\n",
       "      <td>India</td>\n",
       "      <td>1982</td>\n",
       "      <td>1</td>\n",
       "      <td>19.31</td>\n",
       "    </tr>\n",
       "    <tr>\n",
       "      <th>3</th>\n",
       "      <td>AGARTALA</td>\n",
       "      <td>23.883</td>\n",
       "      <td>91.250</td>\n",
       "      <td>India</td>\n",
       "      <td>1985</td>\n",
       "      <td>1</td>\n",
       "      <td>19.25</td>\n",
       "    </tr>\n",
       "    <tr>\n",
       "      <th>4</th>\n",
       "      <td>AGARTALA</td>\n",
       "      <td>23.883</td>\n",
       "      <td>91.250</td>\n",
       "      <td>India</td>\n",
       "      <td>1988</td>\n",
       "      <td>1</td>\n",
       "      <td>19.54</td>\n",
       "    </tr>\n",
       "    <tr>\n",
       "      <th>...</th>\n",
       "      <td>...</td>\n",
       "      <td>...</td>\n",
       "      <td>...</td>\n",
       "      <td>...</td>\n",
       "      <td>...</td>\n",
       "      <td>...</td>\n",
       "      <td>...</td>\n",
       "    </tr>\n",
       "    <tr>\n",
       "      <th>3147</th>\n",
       "      <td>VISHAKHAPATNAM</td>\n",
       "      <td>17.717</td>\n",
       "      <td>83.233</td>\n",
       "      <td>India</td>\n",
       "      <td>2016</td>\n",
       "      <td>1</td>\n",
       "      <td>25.09</td>\n",
       "    </tr>\n",
       "    <tr>\n",
       "      <th>3148</th>\n",
       "      <td>VISHAKHAPATNAM</td>\n",
       "      <td>17.717</td>\n",
       "      <td>83.233</td>\n",
       "      <td>India</td>\n",
       "      <td>2017</td>\n",
       "      <td>1</td>\n",
       "      <td>23.90</td>\n",
       "    </tr>\n",
       "    <tr>\n",
       "      <th>3149</th>\n",
       "      <td>VISHAKHAPATNAM</td>\n",
       "      <td>17.717</td>\n",
       "      <td>83.233</td>\n",
       "      <td>India</td>\n",
       "      <td>2018</td>\n",
       "      <td>1</td>\n",
       "      <td>22.65</td>\n",
       "    </tr>\n",
       "    <tr>\n",
       "      <th>3150</th>\n",
       "      <td>VISHAKHAPATNAM</td>\n",
       "      <td>17.717</td>\n",
       "      <td>83.233</td>\n",
       "      <td>India</td>\n",
       "      <td>2019</td>\n",
       "      <td>1</td>\n",
       "      <td>22.20</td>\n",
       "    </tr>\n",
       "    <tr>\n",
       "      <th>3151</th>\n",
       "      <td>VISHAKHAPATNAM</td>\n",
       "      <td>17.717</td>\n",
       "      <td>83.233</td>\n",
       "      <td>India</td>\n",
       "      <td>2020</td>\n",
       "      <td>1</td>\n",
       "      <td>23.75</td>\n",
       "    </tr>\n",
       "  </tbody>\n",
       "</table>\n",
       "<p>3152 rows × 7 columns</p>\n",
       "</div>"
      ],
      "text/plain": [
       "                NAME  LATITUDE  LONGITUDE Country  Year  Month   Temp\n",
       "0           AGARTALA    23.883     91.250   India  1980      1  18.21\n",
       "1           AGARTALA    23.883     91.250   India  1981      1  18.25\n",
       "2           AGARTALA    23.883     91.250   India  1982      1  19.31\n",
       "3           AGARTALA    23.883     91.250   India  1985      1  19.25\n",
       "4           AGARTALA    23.883     91.250   India  1988      1  19.54\n",
       "...              ...       ...        ...     ...   ...    ...    ...\n",
       "3147  VISHAKHAPATNAM    17.717     83.233   India  2016      1  25.09\n",
       "3148  VISHAKHAPATNAM    17.717     83.233   India  2017      1  23.90\n",
       "3149  VISHAKHAPATNAM    17.717     83.233   India  2018      1  22.65\n",
       "3150  VISHAKHAPATNAM    17.717     83.233   India  2019      1  22.20\n",
       "3151  VISHAKHAPATNAM    17.717     83.233   India  2020      1  23.75\n",
       "\n",
       "[3152 rows x 7 columns]"
      ]
     },
     "execution_count": 25,
     "metadata": {},
     "output_type": "execute_result"
    }
   ],
   "source": [
    "query_climate_database(db_file = \"temps.db\",\n",
    "                       country = \"India\", \n",
    "                       year_begin = 1980, \n",
    "                       year_end = 2020,\n",
    "                       month = 1)"
   ]
  },
  {
   "cell_type": "markdown",
   "id": "0b948644-1aeb-4b6d-9ecf-cbb907a44286",
   "metadata": {},
   "source": [
    "Our query function is working correctly, thus we are ready to visualize the data."
   ]
  },
  {
   "cell_type": "markdown",
   "id": "eff8dd47-77e6-4db7-898e-96ae5414ab4c",
   "metadata": {},
   "source": [
    "## Visualizing the Data Using Plotly ## "
   ]
  },
  {
   "cell_type": "markdown",
   "id": "100cfecd-6a34-4a94-a048-65e05d93145e",
   "metadata": {},
   "source": [
    "Using the NOAA climate database and query function, we can generate various visualizations with Plotly. Visualizations are often created to address specific research questions and challenges. Therefore, choosing the type of visualization to represent data is critical for interpreting data within the context of specific niches."
   ]
  },
  {
   "cell_type": "markdown",
   "id": "7d9a780b-aa74-4fc9-951e-a278c1e3141c",
   "metadata": {},
   "source": [
    "### Geographic Scatter Plot for Yearly Temperature Increases ###"
   ]
  },
  {
   "cell_type": "markdown",
   "id": "2a93e43c-10fd-4f8b-aa3d-7c9dd2096f38",
   "metadata": {},
   "source": [
    "The first question we will address is:\n",
    "\n",
    "* How does the average yearly change in temperature vary within a given country?"
   ]
  },
  {
   "cell_type": "markdown",
   "id": "a5b3eacb-25d9-46e3-b77a-f6bf526b0c42",
   "metadata": {},
   "source": [
    "To explore this question, we will use the `scatter_mapbox` function from Plotly Express. This will allow us to visualize the stations on an interactive map. The interactive data points will reveal how certain stations report higher or lower average yearly temperature changes. We will also wrap the visualization code in a function so that users can generate visualizations for different parts of the data by providing different arguments (e.g., different dates, countries, etc.)."
   ]
  },
  {
   "cell_type": "markdown",
   "id": "0cd6b383-0ba3-43b2-a379-eac867cab78d",
   "metadata": {},
   "source": [
    "First, let's import Plotly Express: "
   ]
  },
  {
   "cell_type": "code",
   "execution_count": 26,
   "id": "3869a4ed-9d71-4691-93ef-9ea70d3fbe96",
   "metadata": {
    "tags": []
   },
   "outputs": [],
   "source": [
    "from plotly import express as px"
   ]
  },
  {
   "cell_type": "markdown",
   "id": "c6965b21-2fd8-4a87-936a-a94e5b2c9972",
   "metadata": {},
   "source": [
    "We want the function to accept six explicit arguments and an undetermined number of keyword arguments:\n",
    "\n",
    "* `db_file`, `country`, `year_begin`, `year_end`, and `month` should remain as previously defined.\n",
    "* `min_obs`, the minimum required number of years of data for any given station.\n",
    "* `**kwargs`, additional keyword arguments passed to `px.scatter_mapbox()`. These can control the colormap used, the mapbox style, etc.\n"
   ]
  },
  {
   "cell_type": "markdown",
   "id": "826d16ab-7358-4d47-ab87-097c949aad11",
   "metadata": {},
   "source": [
    "The following function creates the scatter_mapbox according to user inputted specs:"
   ]
  },
  {
   "cell_type": "code",
   "execution_count": 83,
   "id": "be1b36fc-33d2-46f1-b611-5074debf46aa",
   "metadata": {
    "tags": []
   },
   "outputs": [],
   "source": [
    "def temperature_coefficient_plot(db_file, country, year_begin, \n",
    "                                 year_end, month, min_obs, **kwargs):\n",
    "    \"\"\"\n",
    "    Creates an interactive geographic scatterplot showing yearly \n",
    "    temperature change (°C) for stations in a specified country.\n",
    "    \n",
    "    Parameters:\n",
    "    - db_file (str): The file name of the SQLite database (temps.db).\n",
    "    - country (str): Target country.\n",
    "    - year_begin (int): Start year.\n",
    "    - year_end (int): End year.\n",
    "    - month (int): Target month (1-12).\n",
    "    - min_obs (int): Minimum years of data required per station.\n",
    "    - **kwargs: Additional keyword arguments for Plotly.\n",
    "    \n",
    "    Returns:\n",
    "    - plotly.graph_objs._figure.Figure: Interactive map.\n",
    "    \"\"\"\n",
    "    \n",
    "    # Fetch data\n",
    "    df = query_climate_database(db_file, country, year_begin, year_end, month)\n",
    "    \n",
    "    # Filter stations with observations >= min_obs\n",
    "    df['count'] = df.groupby(['NAME', 'LATITUDE', \n",
    "                              'LONGITUDE'])['Year'].transform('count')\n",
    "    df_filtered = df[df['count'] >= min_obs]\n",
    "    \n",
    "    # Function to calculate yearly temperature change coefficients\n",
    "    def coeff_func(group):\n",
    "        years = group['Year'].values\n",
    "        temps = group['Temp'].values\n",
    "        return np.polyfit(years, temps, 1)[0]  # Slope = yearly change (°C/year)\n",
    "    \n",
    "    # Group data and get coeff using .apply() method\n",
    "    coeffs = df_filtered.groupby(['NAME', 'LATITUDE', \n",
    "                                  'LONGITUDE', 'Country']).apply(coeff_func)\n",
    "    coeffs = coeffs.reset_index(name='Coefficient').dropna()\n",
    "    # Makes sure coeff are rounded to a sober number of significant figures\n",
    "    coeffs = round(coeffs, 4)\n",
    "    \n",
    "    # Converts int month (1-12) into associated str month name\n",
    "    def month_converter(month):\n",
    "        month_names = [\n",
    "        \"January\", \"February\", \"March\", \"April\", \"May\", \"June\",\n",
    "        \"July\", \"August\", \"September\", \"October\", \"November\", \"December\"]\n",
    "        \n",
    "        return month_names[month - 1]\n",
    "    \n",
    "    # Configures plot to meet standarized look\n",
    "    fig = px.scatter_mapbox(\n",
    "    coeffs,\n",
    "    lat=\"LATITUDE\",\n",
    "    lon=\"LONGITUDE\",\n",
    "    color=\"Coefficient\",  # Maps the color to the coeff column\n",
    "    hover_name=\"NAME\",\n",
    "    labels={\n",
    "        # Rename Coefficient in hover data\n",
    "        \"Coefficient\": \"Estimated Yearly Increase (°C)\"\n",
    "    }, **kwargs)\n",
    "    \n",
    "    # Continued plot config\n",
    "    fig.update_layout(\n",
    "        width=700,\n",
    "        height=400,\n",
    "    margin={\"r\": 140, \"t\": 60, \"l\": 0, \"b\": 0},\n",
    "    title={ # Title config with f-string to update based on input country and dates\n",
    "        \"text\": f\"\"\"The Estimated Yearly Increase in Temperature<br>\n",
    "                    for Stations in {country} in {month_converter(month)}\n",
    "                    Between {year_begin}-{year_end}.\"\"\",\n",
    "        \"x\": 0.5,  \n",
    "        \"xanchor\": \"center\",  \n",
    "        \"yanchor\": \"top\"},  \n",
    "    coloraxis_colorbar={\n",
    "            \"title\": \"Estimated Yearly Increase (°C)\",  # Set the color bar title\n",
    "            \"title_side\": \"right\",\n",
    "            \"x\": 1.0},  \n",
    "    coloraxis={  # Color scale range config\n",
    "            \"cmin\": -0.13,  \n",
    "            \"cmax\": 0.13})\n",
    "    \n",
    "    return fig"
   ]
  },
  {
   "cell_type": "markdown",
   "id": "b167ab1f-3ac6-45de-86bf-3d76da011a1a",
   "metadata": {
    "tags": []
   },
   "source": [
    "After running the cell with our `temperature_coefficient_plot()` function, we can test it by calling it with the same specs that we fed the query function to create a plot of estimated yearly increases in temperature during the month of January, in the interval 1980-2020, in India, as follows:"
   ]
  },
  {
   "cell_type": "code",
   "execution_count": 79,
   "id": "3b1b0384-4605-4c5d-ad8a-cdb1fd5e45b1",
   "metadata": {
    "tags": []
   },
   "outputs": [
    {
     "data": {
      "text/html": [
       "<iframe\n",
       "    scrolling=\"no\"\n",
       "    width=\"720px\"\n",
       "    height=\"420\"\n",
       "    src=\"iframe_figures/figure_79.html\"\n",
       "    frameborder=\"0\"\n",
       "    allowfullscreen\n",
       "></iframe>\n"
      ]
     },
     "metadata": {},
     "output_type": "display_data"
    }
   ],
   "source": [
    "# assumes you have imported necessary packages\n",
    "color_map = px.colors.diverging.RdGy_r # choose a colormap\n",
    "\n",
    "fig = temperature_coefficient_plot(db_file = \"temps.db\",\n",
    "                                   country = \"India\", \n",
    "                                   year_begin = 1980, \n",
    "                                   year_end = 2020, \n",
    "                                   month = 1, \n",
    "                                   min_obs = 10,\n",
    "                                   zoom = 2, # Sets the initial camera \n",
    "                                   mapbox_style=\"carto-positron\",\n",
    "                                   color_continuous_scale=color_map)\n",
    "\n",
    "fig.show()"
   ]
  },
  {
   "cell_type": "markdown",
   "id": "c07bb60d-6966-41ed-9506-fb44d0f72c2f",
   "metadata": {},
   "source": [
    "To double-check that our temperature_coefficient_plot() function works properly and not just for India during the specified date range, we can try creating the Mapbox plot for Australia:"
   ]
  },
  {
   "cell_type": "code",
   "execution_count": 80,
   "id": "30310f11-b72b-45ee-8058-cc20b9c470cd",
   "metadata": {
    "tags": []
   },
   "outputs": [
    {
     "data": {
      "text/html": [
       "<iframe\n",
       "    scrolling=\"no\"\n",
       "    width=\"720px\"\n",
       "    height=\"420\"\n",
       "    src=\"iframe_figures/figure_80.html\"\n",
       "    frameborder=\"0\"\n",
       "    allowfullscreen\n",
       "></iframe>\n"
      ]
     },
     "metadata": {},
     "output_type": "display_data"
    }
   ],
   "source": [
    "color_map = px.colors.diverging.RdGy_r # choose a colormap\n",
    "\n",
    "fig = temperature_coefficient_plot(db_file = \"temps.db\",\n",
    "                                   country = \"Australia\", # Different country\n",
    "                                   year_begin = 2000, # Different start date\n",
    "                                   year_end = 2020, \n",
    "                                   month = 1, \n",
    "                                   min_obs = 10,\n",
    "                                   zoom = 2, # Sets the initial camera \n",
    "                                   mapbox_style=\"carto-positron\",\n",
    "                                   color_continuous_scale=color_map)\n",
    "\n",
    "fig.show()"
   ]
  },
  {
   "cell_type": "markdown",
   "id": "43e94e8c-b436-4892-9177-cc2db139d67e",
   "metadata": {},
   "source": [
    "It looks like our `temperature_coefficient_plot()` function works properly. Upon analyzing the plot for India and Australia, one can infer that climate temperatures are increasing more rapidly in more densely populated areas. This is likely due to increased levels of pollution which are expediting the effects of global warming. To further explore this, we can use a boxplot graph to address a question that would build upon our inference."
   ]
  },
  {
   "cell_type": "markdown",
   "id": "dc5970af-6529-48b4-9378-56790a44fdb1",
   "metadata": {},
   "source": [
    "### Comparing Regional Climate Trends Over Time with Box Plots ###"
   ]
  },
  {
   "cell_type": "markdown",
   "id": "c931629c-1457-476c-9264-6a37236294db",
   "metadata": {},
   "source": [
    "Adding to our exploration of geolocation and climate temperatures, we can also ask:\n",
    "\n",
    "* How does the rate of yearly temperature change vary across different latitude bands within a given country and month?\n",
    "\n"
   ]
  },
  {
   "cell_type": "markdown",
   "id": "ae2f351d-0629-48c8-8eed-8f04e0f96126",
   "metadata": {},
   "source": [
    "We will use the `px.box()` from Plotly Express to construct a scatter box plot, including facets that separate the data by latitude bands. Similarly to the previous plot, we will use the same query function for our data, but instead we will categorize the coefficients by latitude for faceting."
   ]
  },
  {
   "cell_type": "markdown",
   "id": "6f491e46-519e-49e4-8273-c61540727796",
   "metadata": {},
   "source": [
    "We can construct our visualization function as follows:"
   ]
  },
  {
   "cell_type": "code",
   "execution_count": 43,
   "id": "c2f7fc89-78c2-450a-a585-d959e5ed0a65",
   "metadata": {
    "tags": []
   },
   "outputs": [],
   "source": [
    "def plot_temperature_trend_boxplot(db_file, country, year_begin, \n",
    "                                   year_end, month, min_obs):\n",
    "    \"\"\"\n",
    "    Creates an interactive boxplot showing the distribution of yearly temperature \n",
    "    trends across latitude bands for stations in a specified country and time range.\n",
    "    \n",
    "    Parameters:\n",
    "    - db_file (str): The file name of the SQLite database (temps.db).\n",
    "    - country (str): Target country.\n",
    "    - year_begin (int): Start year.\n",
    "    - year_end (int): End year.\n",
    "    - month (int): Target month (1-12).\n",
    "    - min_obs (int): Minimum years of data required per station.\n",
    "    \n",
    "    Returns:\n",
    "    - plotly.graph_objs._figure.Figure: Interactive boxplot.\n",
    "    \"\"\"\n",
    "    \n",
    "    # Fetch data\n",
    "    df = query_climate_database(db_file, country, year_begin, year_end, month)\n",
    "    \n",
    "    # Filter stations with observations >= min_obs\n",
    "    df['count'] = df.groupby(['NAME', 'LATITUDE', 'LONGITUDE'])['Year'].transform('count')\n",
    "    df_filtered = df[df['count'] >= min_obs]\n",
    "    \n",
    "    # Function to calculate yearly temperature change coefficients\n",
    "    def coeff_func(group):\n",
    "        years = group['Year'].values\n",
    "        temps = group['Temp'].values\n",
    "        return np.polyfit(years, temps, 1)[0]  # Slope = yearly change (°C/year)\n",
    "    \n",
    "    # Group data and get coeff using .apply() method\n",
    "    coeffs = df_filtered.groupby(['NAME', 'LATITUDE', \n",
    "                                  'LONGITUDE', 'Country']).apply(coeff_func)\n",
    "    coeffs = coeffs.reset_index(name='Coefficient').dropna()\n",
    "    # Makes sure coeff are rounded to a sober number of significant figures\n",
    "    coeffs = round(coeffs, 4)\n",
    "    \n",
    "    # Converts int month (1-12) into associated str month name\n",
    "    def month_converter(month):\n",
    "        month_names = [\n",
    "        \"January\", \"February\", \"March\", \"April\", \"May\", \"June\",\n",
    "        \"July\", \"August\", \"September\", \"October\", \"November\", \"December\"]\n",
    "        \n",
    "        return month_names[month - 1]\n",
    "    \n",
    "    # Categorize latitude into bands for faceting\n",
    "    coeffs['Latitude Band'] = pd.cut(coeffs['LATITUDE'], bins=[-90, -30, 0, 30, 60, 90], \n",
    "                                     labels=['South Polar', 'South Temperate', \n",
    "                                             'Tropics', 'North Temperate', 'North Polar'])\n",
    "    \n",
    "    # Create faceted box plot with scatter overlay\n",
    "    fig = px.box(coeffs, y='Coefficient', x='Latitude Band', points='all',\n",
    "                 title=f'''Temperature Trend Distribution for {country} in \n",
    "                         {month_converter(month)} ({year_begin}-{year_end})''',\n",
    "                 labels={'Coefficient': 'Temperature Trend (°C/year)', \n",
    "                         'Latitude Band': 'Latitude Band'},\n",
    "                 facet_col='Latitude Band')\n",
    "    \n",
    "    return fig"
   ]
  },
  {
   "cell_type": "markdown",
   "id": "aae687ee-a212-4cfa-b214-6f479c87065b",
   "metadata": {},
   "source": [
    "After running our boxplot function successfully, we can call it for Australia with the same inputs we made for the scatter Mapbox plot:"
   ]
  },
  {
   "cell_type": "code",
   "execution_count": 44,
   "id": "1479e91d-7a9c-40a4-a740-178ed7788e72",
   "metadata": {
    "tags": []
   },
   "outputs": [
    {
     "data": {
      "text/html": [
       "<iframe\n",
       "    scrolling=\"no\"\n",
       "    width=\"100%\"\n",
       "    height=\"545px\"\n",
       "    src=\"iframe_figures/figure_44.html\"\n",
       "    frameborder=\"0\"\n",
       "    allowfullscreen\n",
       "></iframe>\n"
      ]
     },
     "metadata": {},
     "output_type": "display_data"
    }
   ],
   "source": [
    "fig = plot_temperature_trend_boxplot(db_file = \"temps.db\", \n",
    "                                   country = \"Australia\", \n",
    "                                   year_begin = 2000, \n",
    "                                   year_end = 2020,\n",
    "                                   month=1,\n",
    "                                   min_obs=10)                               \n",
    "fig.show()"
   ]
  },
  {
   "cell_type": "markdown",
   "id": "ddba84c2-9a13-44d7-be65-a78290cdd3d2",
   "metadata": {},
   "source": [
    "The results point to the idea that the South polar band is warming at a rate higher than that of the South Temperate band. Considering Australia’s major urban centers are in its South, we have some substantial evidence of zones with elevated warming. We can further inquire into relationships between latitude and temperature by mapping the change in temperature throughout the year for various latitudes."
   ]
  },
  {
   "cell_type": "markdown",
   "id": "5fbc1389-8951-4435-9d77-874d248795e6",
   "metadata": {
    "tags": []
   },
   "source": [
    "###  Mapping Monthly Average Temperature by Latitude with 3D Scatterplots ###"
   ]
  },
  {
   "cell_type": "markdown",
   "id": "029fdbfe-a537-41df-9db8-8efed0557860",
   "metadata": {},
   "source": [
    "If we want to take a look at the bigger picture and see how latitude affects temperature, and how that temperature changes throughout the year in a given country, we can ask:\n",
    "\n",
    "* How does the average monthly temperature vary across latitudes over time? Is there a relationship?"
   ]
  },
  {
   "cell_type": "markdown",
   "id": "30166f95-c869-4e58-8d24-eadbfca4d3d5",
   "metadata": {},
   "source": [
    "We will use the px.scatter_3d() function from Plotly Express to construct an interactive three-dimensional graph with the month (1-12) on the x-axis, station latitude on the y-axis, and average monthly temperature (°C) on the z-axis. This will help identify any broad trends in both seasonal temperature and geographic factors."
   ]
  },
  {
   "cell_type": "markdown",
   "id": "3865a419-4295-436c-a513-d1a5fe75ec9a",
   "metadata": {},
   "source": [
    "Before we can construct a function that will plot our 3D graph, we must define a new query function in `climate_database.py` to handle and prep our data. Our first query function retrieved station-specific data, but this second query focuses on latitude-based temperature trends across months. Let's call it `second_query_climate_database()`.\n",
    "\n",
    "The function will take the four following arguments for flexible user customization:\n",
    "\n",
    "* `db_file`, the file name for the database.\n",
    "* `country`, a string giving the name of a country for which data should be returned.\n",
    "* `year_begin` and `year_end`, two integers giving the earliest and latest years for which should be returned (inclusive)."
   ]
  },
  {
   "cell_type": "markdown",
   "id": "11474565-d222-413a-983b-6f0c0a1b8a5c",
   "metadata": {},
   "source": [
    "After our function is written in `climate_database.py`, we may import the function and check if it is visible as follows:"
   ]
  },
  {
   "cell_type": "code",
   "execution_count": 47,
   "id": "ffad5f01-d26d-46bf-a7f1-b43ecc58237a",
   "metadata": {
    "tags": []
   },
   "outputs": [
    {
     "name": "stdout",
     "output_type": "stream",
     "text": [
      "def second_query_climate_database(db_file, country, year_begin, year_end):\n",
      "    \"\"\"\n",
      "    Query the climate database for temperature data across months and latitudes.\n",
      "\n",
      "    Parameters:\n",
      "    - db_file (str): The file name of the SQLite database (i.e. temps.db).\n",
      "    - country (str): Target country.\n",
      "    - year_begin (int): Start year.\n",
      "    - year_end (int): End year.\n",
      "\n",
      "    Returns:\n",
      "    - pd.DataFrame: A data frame containing month, latitude, and average temperature.\n",
      "    \"\"\"\n",
      "    # Connect to the database\n",
      "    conn = sqlite3.connect(db_file)\n",
      "    \n",
      "    # Write the SQL query using f-strings\n",
      "    query = f\"\"\"\n",
      "        SELECT \n",
      "            T.month AS Month,\n",
      "            S.latitude AS LATITUDE,\n",
      "            ROUND(AVG(T.temp),2) AS Avg_Temp\n",
      "        FROM \n",
      "            temperatures T\n",
      "        JOIN \n",
      "            stations S ON T.id = S.id\n",
      "        JOIN \n",
      "            countries C ON SUBSTR(S.id, 1, 2) = C.\"FIPS 10-4\"\n",
      "        WHERE \n",
      "            C.name = '{country}' AND\n",
      "            T.year BETWEEN {year_begin} AND {year_end}\n",
      "        GROUP BY \n",
      "            T.month, S.latitude\n",
      "        ORDER BY \n",
      "            T.month, S.latitude;\n",
      "    \"\"\"\n",
      "    # Takes average temperature for each month and latitude\n",
      "    # Execute the query and load the results into a DataFrame\n",
      "    df = pd.read_sql_query(query, conn)\n",
      "    \n",
      "    # Close the database connection\n",
      "    conn.close()\n",
      "    \n",
      "    return df\n",
      "\n"
     ]
    }
   ],
   "source": [
    "from climate_database import second_query_climate_database\n",
    "import inspect\n",
    "print(inspect.getsource(second_query_climate_database))"
   ]
  },
  {
   "cell_type": "markdown",
   "id": "e917d654-a947-4043-b65a-5ace22aeb30a",
   "metadata": {},
   "source": [
    "With our query ready to go, we can write the function that will plot our 3D graph.\n",
    "\n",
    "We can construct the 3D visualization as follows:"
   ]
  },
  {
   "cell_type": "code",
   "execution_count": 112,
   "id": "7495f34d-2c61-44cd-8fd5-fbbe84c2a974",
   "metadata": {
    "tags": []
   },
   "outputs": [],
   "source": [
    "def plot_3d_temperature(db_file, country, year_begin, year_end):\n",
    "    \"\"\"\n",
    "    Create a 3D scatter plot for temperature data.\n",
    "\n",
    "    Parameters:\n",
    "    - db_file (str): The file name of the SQLite database (temps.db).\n",
    "    - country (str): Target country.\n",
    "    - year_begin (int): Start year.\n",
    "    - year_end (int): End year.\n",
    "\n",
    "    Returns:\n",
    "    - plotly.graph_objects.Figure: The 3D scatter plot.\n",
    "    \"\"\"\n",
    "    # Fetch data\n",
    "    df = second_query_climate_database(db_file, country, year_begin, year_end)\n",
    "    \n",
    "    # Create 3D scatter plot with color scale to demark higher and lower temps\n",
    "    fig = px.scatter_3d(df, x='Month', y='LATITUDE', z='Avg_Temp',\n",
    "                        color='Avg_Temp',\n",
    "                        title='temp_name',\n",
    "                        labels={'Month': 'Month', 'Latitude': 'Latitude',\n",
    "                                'Avg_Temp': 'Average Temperature (°C)'},\n",
    "                        color_continuous_scale='thermal',\n",
    "                        width=800,\n",
    "                        height=500)\n",
    "    \n",
    "    fig.update_traces(marker=dict(size=5))\n",
    "    \n",
    "    fig.update_layout(\n",
    "        margin={\"r\": 120, \"t\": 60, \"l\": 0, \"b\": 0},\n",
    "        title={ # Title config with f-string to update based on input country and dates\n",
    "        \"text\": f\"\"\"Monthly Average Temperature by Latitude in {country}<br>\n",
    "        Between {year_begin}-{year_end}.\"\"\",\n",
    "        \"x\": 0.5,  \n",
    "        \"xanchor\": \"center\",  \n",
    "        \"yanchor\": \"top\"},\n",
    "        coloraxis_colorbar={\n",
    "            \"title\": \"Average Temp. (°C)\",  # Set the color bar title\n",
    "            \"title_side\": \"right\",\n",
    "            \"x\": 0.85},\n",
    "    ) \n",
    "    \n",
    "    return fig"
   ]
  },
  {
   "cell_type": "markdown",
   "id": "813729ba-2afa-4402-b734-3d46412a2228",
   "metadata": {},
   "source": [
    "After running our 3D scatter function successfully, we can call it for Australia with the same inputs as made previously, omitting the months key since we are now plotting values for all months.\n",
    "\n",
    "The following function calls `plot_3d_temperature`:"
   ]
  },
  {
   "cell_type": "code",
   "execution_count": 113,
   "id": "41763880-12aa-4528-9a01-447ff4feb363",
   "metadata": {
    "tags": []
   },
   "outputs": [
    {
     "data": {
      "text/html": [
       "<iframe\n",
       "    scrolling=\"no\"\n",
       "    width=\"820px\"\n",
       "    height=\"520\"\n",
       "    src=\"iframe_figures/figure_113.html\"\n",
       "    frameborder=\"0\"\n",
       "    allowfullscreen\n",
       "></iframe>\n"
      ]
     },
     "metadata": {},
     "output_type": "display_data"
    }
   ],
   "source": [
    "fig = plot_3d_temperature(db_file = \"temps.db\", \n",
    "                          country = \"Australia\", \n",
    "                          year_begin = 2000, \n",
    "                          year_end = 2020)\n",
    "\n",
    "fig.show()"
   ]
  },
  {
   "cell_type": "markdown",
   "id": "560534b9-d4fa-4486-94ef-132e4b6f1daa",
   "metadata": {},
   "source": [
    "Through the three plots we explored, we uncovered a nuanced view of Australia’s climate. This analysis reinforces the relationship between latitude, seasonal changes, and long-term warming trends."
   ]
  },
  {
   "cell_type": "code",
   "execution_count": null,
   "id": "bf6e659f-7f7a-44db-9ba7-5504daa0c927",
   "metadata": {},
   "outputs": [],
   "source": []
  }
 ],
 "metadata": {
  "kernelspec": {
   "display_name": "Python 3 (ipykernel)",
   "language": "python",
   "name": "python3"
  },
  "language_info": {
   "codemirror_mode": {
    "name": "ipython",
    "version": 3
   },
   "file_extension": ".py",
   "mimetype": "text/x-python",
   "name": "python",
   "nbconvert_exporter": "python",
   "pygments_lexer": "ipython3",
   "version": "3.11.6"
  }
 },
 "nbformat": 4,
 "nbformat_minor": 5
}
