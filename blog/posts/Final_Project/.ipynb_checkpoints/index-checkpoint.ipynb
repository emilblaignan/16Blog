{
 "cells": [
  {
   "cell_type": "raw",
   "id": "05c91169-4768-4bd0-91c2-3d8942a484f1",
   "metadata": {},
   "source": [
    "---\n",
    "title: \"YieldCurveForecaster: 3D Yield Curve Modeling and Forecasting Dashboard\"\n",
    "author: \"Emil Blaignan\"\n",
    "date: \"2025-03-20\"\n",
    "categories: [SQL, Plotly, Dash]\n",
    "toc: true\n",
    "toc-depth: 3\n",
    "---"
   ]
  },
  {
   "cell_type": "markdown",
   "id": "595d8c3d-e295-4554-9b37-1a8311657c36",
   "metadata": {},
   "source": [
    "![](3DYieldCurve.png)"
   ]
  },
  {
   "cell_type": "markdown",
   "id": "3f7215eb-8f6d-43d7-80cf-a5743debc493",
   "metadata": {},
   "source": [
    "## Introduction ##"
   ]
  },
  {
   "cell_type": "markdown",
   "id": "965c5def-9ff5-40b9-a05c-a91b26aa10ab",
   "metadata": {},
   "source": [
    "A yield curve is a graph that shows the interest rates (yields) of bonds with different maturity dates. It typically represents U.S. Treasury bonds and helps indicate the overall health of the economy.\n",
    "\n",
    "- Short-term bonds (e.g., 3 months) usually have lower yields.\n",
    "- Long-term bonds (e.g., 30 years) usually have higher yields (risk premium)\n",
    "\n",
    "Shapes tell economic stories:\n",
    "\n",
    "- Normal (upward): Healthy economy\n",
    "- Flat: Economic transition\n",
    "- Inverted: Recession signal\n",
    "\n",
    "This project aims to model the yield curve in three-dimensions, as well as forecast yields using exogenous variables to formulate \"regime-awareness\" for classic forecasting models (i.e. Nelson-Siegel Models)."
   ]
  },
  {
   "cell_type": "markdown",
   "id": "92c73ce4-38b6-4226-9f59-e419c2e95af7",
   "metadata": {},
   "source": [
    "[GitHub Repository Link](https://github.com/emilblaignan/YieldCurveForecaster)"
   ]
  },
  {
   "cell_type": "markdown",
   "id": "69d82231-1bba-4785-ae20-f5b8f87deb70",
   "metadata": {},
   "source": [
    "## Project Overview ##"
   ]
  },
  {
   "cell_type": "markdown",
   "id": "de83d9a2-25da-4145-b8c6-c067ebb4b492",
   "metadata": {},
   "source": [
    "The project is split up into three main categories:\n",
    "\n",
    "1. **Data Management**: The acquisition of data from FRED API (Yield data, CPI, VIX), SQLite database formation, and SQL query functions.\n",
    "2. **Forecasting Models (Mathematical Modeling)**: The forecasting models (dynamic exponential decay, AFNS, etc.).\n",
    "3. **Backtesting & Analysis**: The functions used to backtest each model and calculate the error metrics/statistics.\n",
    "\n",
    "There are other important modules such as the plotting module and dash app module, but for the sake of the entirety of the project, the forecasting module was the main focus of work and research."
   ]
  },
  {
   "cell_type": "markdown",
   "id": "92fcb980-b0e3-4d37-9619-80ad8ef61fc4",
   "metadata": {},
   "source": [
    "![](YieldCurveProject.png)"
   ]
  },
  {
   "cell_type": "markdown",
   "id": "ef38c921-9e6e-4b89-8c08-539ce61d97ac",
   "metadata": {},
   "source": [
    "At the project's foundation, lies an SQLite database that stores historical yield curve data, inflation metrics, and market volatility indices. The data layer (`data.py`) handles all the database operations using parameterized queries and includes ETL (Extract, Transform, Load) functionality. This ensures that time-based and maturity-related data is cleaned up and standardized, making it ready for use down the line. The mathematical modeling layer (`models.py` and `utils.py`) implements the Nelson-Siegel framework and \"regime-awareness\" forecasting algorithms, containing the complex mathematics of yield curve dynamics. The analytics layer (`analysis.py`) provides backtesting capabilities and statistical analysis functions that operate on both historical and forecasted data.\n",
    "\n",
    "The project's visualizations and user interactions are built on Dash, implementing a reactive programming model where UI components respond to user inputs through callback functions. This setup ensures a smooth and connected workflow, where any changes you make to the parameters in the interface automatically flow through the entire system. It triggers the necessary database queries, runs the right modeling functions, and updates the visualizations seamlessly—all in real time. The application's state management system ensures that computational resources are used efficiently, with heavy operations like backtesting performed only when explicitly requested."
   ]
  },
  {
   "cell_type": "markdown",
   "id": "2d1aeae5-737f-41b3-9ca0-877f0ba20a2f",
   "metadata": {},
   "source": [
    "## Technical Components ##"
   ]
  },
  {
   "cell_type": "markdown",
   "id": "647cf234-7fc7-4ced-ba19-df5121ac0fd7",
   "metadata": {},
   "source": [
    "The main technical components include:\n",
    "\n",
    "1. Creating and Interacting with a SQL Database\n",
    "2. Complex Data Visualization via Plotly\n",
    "3. Mathematical Modeling\n",
    "4. Building a Dynamic Dash App"
   ]
  },
  {
   "cell_type": "markdown",
   "id": "643bd6f1-a398-4e8e-b20e-0a61804999ca",
   "metadata": {},
   "source": [
    "### Creating and Interacting with a SQL Database ###"
   ]
  },
  {
   "cell_type": "markdown",
   "id": "f62f459e-b774-435a-ae7c-c302e71786ed",
   "metadata": {},
   "source": [
    "This project sets up a data storage system using an SQLite database, complete with custom query functions designed to pull time-based financial data efficiently. Unlike simpler methods like relying on CSV files, this database is structured to fetch only the exact data required for specific analyses. This approach minimizes memory usage, especially when working with large datasets that cover several decades.\n",
    "\n",
    "The database is organized into separate tables for yield curve data, market volatility metrics, and inflation, all using consistent date formats to ensure everything lines up correctly over time. To keep things secure and flexible, the data access layer uses parameterized queries, which guard against SQL injection risks while offering versatile ways to retrieve the data you need."
   ]
  },
  {
   "cell_type": "markdown",
   "id": "354a1770-7c26-4c83-808a-0b33f0ee9423",
   "metadata": {},
   "source": [
    "The first step in the project was to fetch the data from FRED API. The `update_db.py` module contains multiple functions to fetch data but we'll focus on fetching the yield data:"
   ]
  },
  {
   "cell_type": "code",
   "execution_count": null,
   "id": "6663edc0-235d-4213-90d7-6fb14d89b694",
   "metadata": {},
   "outputs": [],
   "source": [
    "def fetch_treasury_yields(start_date, end_date):\n",
    "    \"\"\"\n",
    "    Fetch Treasury yield data from FRED for various maturities.\n",
    "    \n",
    "    Returns:\n",
    "        DataFrame with date index and columns for different maturities.\n",
    "    \"\"\"\n",
    "    logger.info(f\"Fetching Treasury yields from {start_date} to {end_date}\")\n",
    "    \n",
    "    # FRED series IDs for different Treasury maturities\n",
    "    # Format: (maturity_label, series_id)\n",
    "    treasury_series = [\n",
    "        ('T1M', 'DGS1MO'),   # 1-Month Treasury Constant Maturity Rate\n",
    "        ('T3M', 'DGS3MO'),   # 3-Month Treasury Constant Maturity Rate\n",
    "        ('T6M', 'DGS6MO'),   # 6-Month Treasury Constant Maturity Rate\n",
    "        ('T1', 'DGS1'),      # 1-Year Treasury Constant Maturity Rate\n",
    "        ('T2', 'DGS2'),      # 2-Year Treasury Constant Maturity Rate\n",
    "        ('T5', 'DGS5'),      # 5-Year Treasury Constant Maturity Rate\n",
    "        ('T10', 'DGS10'),    # 10-Year Treasury Constant Maturity Rate\n",
    "        ('T30', 'DGS30')     # 30-Year Treasury Constant Maturity Rate\n",
    "    ]\n",
    "    \n",
    "    # Initialize dictionary to store series data\n",
    "    yields_data = {}\n",
    "    \n",
    "    # Fetch each series\n",
    "    for label, series_id in treasury_series:\n",
    "        try:\n",
    "            # Get data from FRED API\n",
    "            series = fred.get_series(series_id, start_date, end_date)\n",
    "            if not series.empty:\n",
    "                yields_data[label] = series\n",
    "                logger.info(f\"Successfully fetched {label} yields ({len(series)} observations)\")\n",
    "            else:\n",
    "                logger.warning(f\"No data returned for {label} (series ID: {series_id})\")\n",
    "        except Exception as e:\n",
    "            logger.error(f\"Error fetching {label} (series ID: {series_id}): {str(e)}\")\n",
    "    \n",
    "    # Convert to DataFrame\n",
    "    if yields_data:\n",
    "        df = pd.DataFrame(yields_data)\n",
    "        df.index.name = 'date'\n",
    "        \n",
    "        # Convert index to datetime if not already\n",
    "        if not isinstance(df.index, pd.DatetimeIndex):\n",
    "            df.index = pd.to_datetime(df.index)\n",
    "            \n",
    "        return df\n",
    "    else:\n",
    "        logger.error(\"Failed to fetch any Treasury yield data\")\n",
    "        return pd.DataFrame()\n"
   ]
  },
  {
   "cell_type": "markdown",
   "id": "56196215-c94c-4cbb-a588-3fdcc877b580",
   "metadata": {},
   "source": [
    "The main challenge stemmed from dealing with multiple yield maturities fetched from the FRED API. Since variable names can't start with an integer, I had to rename each maturity by adding a \"T\" at the beginning. This adjustment later necessitated a custom function to convert these specially named maturity variables back into numerical values for analysis. Additionally, the data had to be concatenated and reshaped (using a \"melt\" operation) to ensure it was properly structured for the `data.py` module to query and process efficiently."
   ]
  },
  {
   "cell_type": "markdown",
   "id": "99a5c610-e79b-4182-9b66-98f61f119521",
   "metadata": {},
   "source": [
    "The `data.py` module houses all the query functions, some of which require more than just querying between two dates. An example of this is the `get_historical_inflation()` function, which not only retrieves CPI data but also computes year-over-year inflation rates directly in the query:"
   ]
  },
  {
   "cell_type": "code",
   "execution_count": null,
   "id": "934325a1-2b87-4173-a38d-d303bbbd010a",
   "metadata": {},
   "outputs": [],
   "source": [
    "def get_historical_inflation(db_file: str, start_date: str, end_date: str) -> pd.DataFrame:\n",
    "    \"\"\"\n",
    "    Fetch historical inflation data and compute Year-over-Year (YoY) CPI change.\n",
    "\n",
    "    Args:\n",
    "        db_file (str): Path to SQLite database.\n",
    "        start_date (str): Start date in 'YYYY-MM-DD' format.\n",
    "        end_date (str): End date in 'YYYY-MM-DD' format.\n",
    "\n",
    "    Returns:\n",
    "        pd.DataFrame: DataFrame with ['date', 'CPI', 'inflation_rate'].\n",
    "    \"\"\"\n",
    "    query = \"\"\"\n",
    "        SELECT date, CPI\n",
    "        FROM Inflation\n",
    "        WHERE date BETWEEN ? AND ?\n",
    "        ORDER BY date ASC\n",
    "    \"\"\"\n",
    "    try:\n",
    "        with sqlite3.connect(db_file) as conn:\n",
    "            df = pd.read_sql_query(query, conn, params=(start_date, end_date))\n",
    "        \n",
    "        df = df.sort_values(\"date\")\n",
    "        df[\"inflation_rate\"] = df[\"CPI\"].pct_change(12) * 100  # Compute YoY inflation rate\n",
    "        \n",
    "        return df.dropna()\n",
    "    except Exception as e:\n",
    "        print(f\"Error querying inflation data: {e}\")\n",
    "        return pd.DataFrame()"
   ]
  },
  {
   "cell_type": "markdown",
   "id": "38266791-0911-4872-bb6a-6f626a27a1c9",
   "metadata": {},
   "source": [
    "![](yieldsdb.png)"
   ]
  },
  {
   "cell_type": "markdown",
   "id": "16890461-af73-4b87-8cf0-19ac0e06ad13",
   "metadata": {},
   "source": [
    "All in all, the data management architecture is relatively straightforward, with importing and handling our financial time-series data as the main goal. The database currently has three tables for yields, CPI, and VIX data but can easily be expanded to include more exogenous variables to incorporate into improving the \"regime-awareness\" hypothesis."
   ]
  },
  {
   "cell_type": "markdown",
   "id": "748648d6-82b3-47f8-b208-53328afcddf9",
   "metadata": {},
   "source": [
    "### Complex Data Visualization via Plotly ###"
   ]
  },
  {
   "cell_type": "markdown",
   "id": "d9488be9-512a-499e-818e-c5d3076c361c",
   "metadata": {},
   "source": [
    "The project implements sophisticated three-dimensional visualizations using Plotly, creating interactive representations of yield curve surfaces that evolve over time. The 3D visualization features both historical as well as the forecasted yields. Utilizing the 3D surface visualizations in this way, allow us to go beyond two-dimensional charts to represent the multi-dimensional nature of the yield curve. \n",
    "\n",
    "The core visualization function creates a 3D surface representation where:\n",
    "\n",
    "- The X-axis represents different maturities (from 1-month to 30-year)\n",
    "- The Y-axis represents time (both historical and forecasted periods)\n",
    "- The Z-axis represents yield values\n",
    "\n",
    "The visualization module `plotting.py` implements a custom 3D surface generation function that creates topographical representations of yield curves for both forecasted and historical data:"
   ]
  },
  {
   "cell_type": "code",
   "execution_count": null,
   "id": "01e80a25-af30-4d2e-875a-c3bfced84389",
   "metadata": {},
   "outputs": [],
   "source": [
    "def generate_surface_plot(forecast_model, selected_maturities, db_file, start_date, end_date, vix_data=None):\n",
    "    \"\"\"Creates a 3D surface visualization of historical and forecasted yield curves.\n",
    "    \n",
    "    Purpose:\n",
    "    Generates an interactive 3D surface plot showing the evolution of the yield curve\n",
    "    over time, including both historical data and forward-looking model forecasts.\n",
    "    Selected maturities can be highlighted with individual time series lines.\n",
    "    \n",
    "    Args:\n",
    "        forecast_model: Model name to use for forecasting (\"Heuristic\", \n",
    "            \"ImprovedHeuristic\", or \"RLS\").\n",
    "        selected_maturities: List of maturities to highlight with individual lines.\n",
    "        db_file: Path to SQLite database with yield data.\n",
    "        start_date: Start date for historical data in 'YYYY-MM-DD' format.\n",
    "        end_date: End date for historical data in 'YYYY-MM-DD' format.\n",
    "        vix_data: Optional DataFrame with VIX data for forecast enhancement.\n",
    "        \n",
    "    Returns:\n",
    "        go.Figure: Plotly figure object containing the 3D yield curve visualization.\n",
    "        \n",
    "    Raises:\n",
    "        Exception: If an error occurs during plot generation.\n",
    "    \"\"\"\n",
    "    try:\n",
    "        # Process historical data with memory efficiency in mind\n",
    "        historical_df = data.prepare_data(db_file, start_date, end_date)\n",
    "        historical_df.index = pd.to_datetime(historical_df.index)\n",
    "        \n",
    "        # For large datasets, subsample to improve performance while preserving trends\n",
    "        if len(historical_df) > 200:\n",
    "            historical_df = historical_df.iloc[::2]  # Take every other row\n",
    "            \n",
    "        # Prepare maturity data for consistent plotting\n",
    "        available_maturities = [round(float(col), 4) for col in historical_df.columns]\n",
    "        sorted_maturities = sorted(available_maturities, reverse=True)\n",
    "        historical_df = historical_df.reindex(columns=config.MATURITIES_LIST)[sorted_maturities]\n",
    "        \n",
    "        # Convert dates to numeric values for 3D plotting\n",
    "        base_date = historical_df.index.min()\n",
    "        hist_dates_numeric = (historical_df.index - base_date).days\n",
    "        \n",
    "        # Create meshgrid for 3D surface - positions represent maturity indices\n",
    "        positions = np.arange(len(sorted_maturities))\n",
    "        X_hist, Y_hist = np.meshgrid(positions, hist_dates_numeric)\n",
    "        Z_hist = historical_df.fillna(0).values\n",
    "        \n",
    "        # Adapt forecast length based on visualization complexity\n",
    "        forecast_steps = 24  # Standard value: 2-year forecast\n",
    "        if len(selected_maturities) > 5:\n",
    "            # Shorter forecast horizon when displaying many maturity lines\n",
    "            forecast_steps = 12\n",
    "            \n",
    "        # Generate forecast data using the selected model\n",
    "        forecast_df = models.forecast_yield_curve(\n",
    "            forecast_model, db_file, start_date, end_date, \n",
    "            sorted_maturities, forecast_steps=forecast_steps, vix_data=vix_data\n",
    "        )\n",
    "        \n",
    "        # Prepare forecast data for 3D visualization\n",
    "        forecast_df[\"maturity_numeric\"] = forecast_df[\"maturity_numeric\"].astype(float)\n",
    "        forecast_pivot = forecast_df.pivot(index=\"date\", columns=\"maturity_numeric\", values=\"yield\")\n",
    "        forecast_pivot = forecast_pivot.reindex(columns=sorted_maturities).ffill().bfill().fillna(0)\n",
    "        \n",
    "        # Convert forecast dates to numeric values for plotting\n",
    "        forecast_dates_numeric = (forecast_pivot.index - base_date).days.values\n",
    "        X_fore, Y_fore = np.meshgrid(positions, forecast_dates_numeric)\n",
    "        Z_fore = forecast_pivot.values\n",
    "\n",
    "        # Adapt surface opacity based on selection mode\n",
    "        surface_opacity = 0.05 if selected_maturities else 0.6\n",
    "\n",
    "        # Create the base figure\n",
    "        fig = go.Figure()\n",
    "        \n",
    "        # Add historical yield curve surface (blue gradient)\n",
    "        fig.add_trace(go.Surface(\n",
    "            x=X_hist, y=Y_hist, z=Z_hist,\n",
    "            colorscale=\"Blues\",\n",
    "            opacity=surface_opacity,\n",
    "            name=\"Historical Yield Curve\",\n",
    "            showscale=False\n",
    "        ))\n",
    "        \n",
    "        # Add forecast yield curve surface (orange-cyan-blue gradient)\n",
    "        custom_scale = [[0, 'darkorange'], [0.5, 'cyan'], [1, 'darkblue']]\n",
    "        fig.add_trace(go.Surface(\n",
    "            x=X_fore, y=Y_fore, z=Z_fore,\n",
    "            colorscale=custom_scale,\n",
    "            opacity=surface_opacity,\n",
    "            name=\"Forecast Yield Curve\",\n",
    "            showscale=False\n",
    "        ))\n",
    "        \n",
    "        # Add individual time series lines for selected maturities\n",
    "        if selected_maturities:\n",
    "            for m in selected_maturities:\n",
    "                m_val = round(float(m), 4)\n",
    "                if m_val not in sorted_maturities:\n",
    "                    continue\n",
    "                \n",
    "                # Extract historical data for this maturity\n",
    "                hist_ts = historical_df[m_val].reset_index()\n",
    "                hist_ts.rename(columns={m_val: \"yield\"}, inplace=True)\n",
    "                \n",
    "                # Get forecast for this specific maturity\n",
    "                forecast_ts = models.forecast_individual_maturity(\n",
    "                    db_file, start_date, end_date, m_val, \n",
    "                    model=forecast_model, vix_data=vix_data\n",
    "                )\n",
    "                \n",
    "                # Combine historical and forecast for continuous visualization\n",
    "                combined_ts = pd.concat([hist_ts, forecast_ts], ignore_index=True)\n",
    "                combined_ts.sort_values(\"date\", inplace=True)\n",
    "                combined_ts['date_str'] = combined_ts['date'].dt.strftime(\"%m-%Y\")\n",
    "                combined_ts['date_numeric'] = (combined_ts['date'] - base_date).dt.days\n",
    "                \n",
    "                # Add the maturity-specific line to the 3D plot\n",
    "                pos = sorted_maturities.index(m_val)\n",
    "                fig.add_trace(go.Scatter3d(\n",
    "                    x=[pos] * len(combined_ts),  # Fixed x position for this maturity\n",
    "                    y=combined_ts['date_numeric'],  # Date position\n",
    "                    z=combined_ts['yield'],  # Yield values\n",
    "                    mode='lines',\n",
    "                    line=dict(color='black', width=1.1),\n",
    "                    name=f\"{int(m_val)}Y\" if m_val >= 1 else f\"{int(round(m_val*12))}M\",\n",
    "                    # Enhanced hover information for financial analysis\n",
    "                    hovertemplate=\"<b>Maturity:</b> \" + f\"{m_val} years\" +\n",
    "                                \"<br><b>Date:</b> %{customdata[0]}\" +\n",
    "                                \"<br><b>Yield:</b> %{z:.2f}%\",\n",
    "                    customdata=combined_ts[['date_str']].values\n",
    "                ))\n",
    "        \n",
    "        # Configure time axis with year labels\n",
    "        end_date_val = forecast_pivot.index.max() if not forecast_pivot.empty else historical_df.index.max()\n",
    "        year_ticks = pd.date_range(start=base_date, end=end_date_val, freq='YS')\n",
    "        y_tick_vals = [(date - base_date).days for date in year_ticks]\n",
    "        y_tick_text = [date.strftime(\"%Y\") for date in year_ticks]\n",
    "            \n",
    "        # Set layout with optimized aspect ratio and clear axis labels\n",
    "        fig.update_layout(\n",
    "            scene=dict(\n",
    "                xaxis=dict(\n",
    "                    title=\"Maturity\",\n",
    "                    tickvals=list(range(len(sorted_maturities))),\n",
    "                    ticktext=[f\"{int(m)}Y\" if m >= 1 else f\"{int(round(m*12))}M\" for m in sorted_maturities]\n",
    "                ),\n",
    "                yaxis=dict(\n",
    "                    title=\"Time\",\n",
    "                    tickvals=y_tick_vals,\n",
    "                    ticktext=y_tick_text\n",
    "                ),\n",
    "                zaxis=dict(title=\"Yield (%)\"),\n",
    "                aspectratio=dict(x=1, y=2, z=0.7)\n",
    "            ),\n",
    "            title_text=f\"Historical & Forecast Yield Curves ({forecast_model} Model)\",\n",
    "            margin=dict(l=0, r=0, b=10, t=30),\n",
    "            legend=dict(\n",
    "                yanchor=\"top\",\n",
    "                y=0.99,\n",
    "                xanchor=\"left\",\n",
    "                x=0.01\n",
    "            )\n",
    "        )\n",
    "        \n",
    "        # Clean up large intermediate objects to free memory\n",
    "        del X_hist, Y_hist, Z_hist, X_fore, Y_fore, Z_fore\n",
    "        gc.collect()\n",
    "        \n",
    "        return fig\n",
    "    except Exception as e:\n",
    "        # Log the error for debugging\n",
    "        print(f\"Error in generate_surface_plot: {str(e)}\")\n",
    "        raise"
   ]
  },
  {
   "cell_type": "markdown",
   "id": "e2189cab-0027-4b84-8291-278606b7edc7",
   "metadata": {},
   "source": [
    "Some of the challenges that arose when plotting the 3D yield curve came from concatenating the historical and forecasted yield graphs. Making sure that the forecasting graph exhibited continuity (no large gap) was a reoccurring issue. \n",
    "\n",
    "One of the features I wanted the 3D visualization to have was the ability for users to select a specific maturity and be able to view it without the obstruction of the entire three-dimensional plot. Thus, the rendering engine also dynamically adjusts opacity levels based on user-selected maturity, creating a focus effect where the surface becomes semi-transparent when specific yield curves are highlighted.\n",
    "\n",
    "This complex visualization approach transforms numerical yield data into an intuitive visual format that makes patterns, anomalies, and trends immediately apparent (financial shocks like COVID-19 can be easily visible).\n",
    "\n",
    "Beyond the 3D visualizations, the `plotting.py` module contains specialized plot functions for yield curve spreads, inversion analysis, and volatility correlations. These visualizations implement custom color-coding schemes that map domain-specific concepts like recession probabilities to visual elements that financial analysts can readily interpret. These visualizations accompany the main 3D yield curve to better understand how they work with yield curve dynamics."
   ]
  },
  {
   "cell_type": "markdown",
   "id": "7f60584c-c3fc-4a64-b41f-a8d89576b163",
   "metadata": {},
   "source": [
    "![](3DYieldCurve.png)"
   ]
  },
  {
   "cell_type": "markdown",
   "id": "f1f16de3-4c0a-452f-859e-428271520555",
   "metadata": {},
   "source": [
    "### Mathematical Modeling ###"
   ]
  },
  {
   "cell_type": "markdown",
   "id": "090907a9-78bc-4956-8da2-0d02c3f43c86",
   "metadata": {},
   "source": [
    "The core of the application lies in its mathematical modeling capabilities. The system implements multiple forecasting approaches, each with specific strengths for different market environments.\n",
    "\n",
    "We'll focus on the \"Improved-Heuristic\" model which utilized CPI and VIX data to create factors used in a simple decay function:\n",
    "\n",
    "$$Y_{t+h,m} = Y_{t,m} \\cdot (1-d_{m,t})^h + \\alpha_{m,h} \\cdot (M_{m,t} - Y_{t,m} \\cdot (1-d_{m,t})^h) + \\epsilon_{t,h,m}$$\n",
    "\n",
    "Where:\n",
    "- $Y_{t,m}$ is the yield at time $t$ for maturity $m$\n",
    "- $h$ is the forecast horizon in months\n",
    "- $d_{m,t}$ is the effective decay rate, varying by maturity and time\n",
    "- $\\alpha_{m,h}$ is the horizon-dependent mean reversion strength\n",
    "- $M_{m,t}$ is the maturity-specific mean reversion target\n",
    "- $\\epsilon_{t,h,m}$ is a noise term based on historical volatility\n",
    "\n",
    "**Maturity-Specific Decay Rates**\n",
    "\n",
    "The model implements non-linear scaling of decay rates across the curve:\n",
    "\n",
    "$$d_{m,t} = d_{max} - (d_{max} - d_{min}) \\cdot \\left(\\frac{m - m_{min}}{m_{max} - m_{min}}\\right)^{\\gamma_m} + \\beta_{infl,t}$$\n",
    "\n",
    "Where:\n",
    "- $d_{max}$ is the maximum decay rate (for shortest maturities)\n",
    "- $d_{min}$ is the minimum decay rate (for longest maturities)\n",
    "- $\\gamma_m$ is a maturity-dependent power factor (0.7 for short maturities, 0.9 for longer ones)\n",
    "- $\\beta_{infl,t}$ is an inflation-based adjustment\n",
    "\n",
    "The model adjusts decay rates across the curve, applying faster decay for short-term rates and slower decay for long-term rates:"
   ]
  },
  {
   "cell_type": "code",
   "execution_count": null,
   "id": "a7134aa7-24a1-4bec-98f5-74c4f51137a0",
   "metadata": {},
   "outputs": [],
   "source": [
    "# Compute base decay rate with non-linear scaling for short-term rates\n",
    "if m <= 1:  # 1 year or less - faster decay initially\n",
    "    base_decay = d_max - (d_max - d_min) * np.power((m - m_min) / (m_max - m_min), 0.7)\n",
    "else:\n",
    "    base_decay = d_max - (d_max - d_min) * np.power((m - m_min) / (m_max - m_min), 0.9)"
   ]
  },
  {
   "cell_type": "markdown",
   "id": "da0b425c-a68a-4953-ba86-747413009c3c",
   "metadata": {},
   "source": [
    "**Inflation and Volatility Adjustments**\n",
    "\n",
    "The inflation adjustment term $\\beta_{infl,t}$ is calculated as:\n",
    "\n",
    "$$\\beta_{infl,t} = \\begin{cases}\n",
    "-0.08 - 0.02 \\cdot I'_t & \\text{if } I_t > 4\\% \\text{ and } I'_t > 0 \\\\\n",
    "-0.05 - 0.01 \\cdot I'_t & \\text{if } I_t > 3\\% \\text{ and } I'_t > 0 \\\\\n",
    "-0.03 & \\text{if } 1\\% \\leq I_t < 3\\% \\\\\n",
    "-0.015 & \\text{if } 0 \\leq I_t < 1\\% \\\\\n",
    "-0.005 + 0.005 \\cdot |I'_t| & \\text{if } I_t < 0\\% \\text{ and } I'_t < 0\n",
    "\\end{cases}$$\n",
    "\n",
    "Where:\n",
    "- $I_t$ is the current inflation rate\n",
    "- $I'_t$ is the inflation momentum (change over recent periods)\n",
    "\n",
    "This is further adjusted by market volatility:\n",
    "\n",
    "$$\\beta_{infl,t} = \\beta_{infl,t} \\cdot V_f$$\n",
    "\n",
    "Where $V_f$ is a volatility adjustment factor:\n",
    "\n",
    "$$V_f = \\begin{cases}\n",
    "1.3 & \\text{if VIX} > 30 \\\\\n",
    "1.1 & \\text{if VIX} > 20 \\\\\n",
    "0.9 & \\text{if VIX} < 15 \\\\\n",
    "1.0 & \\text{otherwise}\n",
    "\\end{cases}$$\n",
    "\n",
    "Here, we implement the math using simple else-if statements to refine our bias estimator:"
   ]
  },
  {
   "cell_type": "code",
   "execution_count": null,
   "id": "585a9494-f707-4b43-87ef-03b4d3cc8180",
   "metadata": {},
   "outputs": [],
   "source": [
    "# Base bias calculation with momentum factor - higher inflation = more negative bias\n",
    "if recent_inflation > 4:  # Very high inflation\n",
    "    base_bias = -0.08 - (0.02 * inflation_trend if inflation_trend > 0 else 0)\n",
    "elif recent_inflation > 3:  # High inflation\n",
    "    base_bias = -0.05 - (0.01 * inflation_trend if inflation_trend > 0 else 0)\n",
    "elif recent_inflation >= 1:  # Normal inflation\n",
    "    base_bias = -0.03"
   ]
  },
  {
   "cell_type": "markdown",
   "id": "c317bd4f-30a4-4255-b71f-669b7e54e736",
   "metadata": {},
   "source": [
    "**Dynamic Mean Reversion**\n",
    "\n",
    "The mean reversion target $M_{m,t}$ combines historical averages with economic factors:\n",
    "\n",
    "$$M_{m,t} = w_{s,m} \\cdot \\mu_{s,m} + w_{m,m} \\cdot \\mu_{m,m} + w_{l,m} \\cdot \\mu_{l,m}$$\n",
    "\n",
    "Where:\n",
    "- $\\mu_{s,m}$, $\\mu_{m,m}$, $\\mu_{l,m}$ are short, medium, and long-term historical means\n",
    "- $w_{s,m}$, $w_{m,m}$, $w_{l,m}$ are maturity-specific weights\n",
    "\n",
    "This target is then adjusted by economic factors:\n",
    "\n",
    "$$M_{m,t} = M_{m,t} \\cdot (1 + \\delta_m \\cdot E_t)$$\n",
    "\n",
    "Where:\n",
    "- $E_t$ is a composite economic factor score\n",
    "- $\\delta_m$ is a maturity-dependent sensitivity (ranging from 0.01 to 0.05)\n",
    "\n",
    "**Noise Generation**\n",
    "\n",
    "The noise term incorporates:\n",
    "1. Historical volatility\n",
    "2. Maturity-specific scaling\n",
    "3. Time horizon effects\n",
    "4. Volatility regime adjustments\n",
    "\n",
    "$$\\epsilon_{t,h,m} = \\sigma_{m} \\cdot e^{-0.2m} \\cdot \\sqrt{\\min(1, \\frac{h}{12})} \\cdot V_f \\cdot \\mathcal{N}(0.002, 1)$$\n",
    "\n",
    "Where:\n",
    "- $\\sigma_m$ is the historical standard deviation for maturity $m$\n",
    "- $e^{-0.2m}$ provides exponential decay in noise with maturity\n",
    "- The square root term increases noise with forecast horizon\n",
    "- $V_f$ is the volatility regime factor\n",
    "- $\\mathcal{N}(0.002, 1)$ is a slightly biased normal distribution\n",
    "\n",
    "This mathematical framework enables the model to adapt to changing market conditions while maintaining economically reasonable forecasts across different maturities and time horizons."
   ]
  },
  {
   "cell_type": "markdown",
   "id": "d79db6b9-be61-4242-9332-87c6a00ce729",
   "metadata": {},
   "source": [
    "In addition to all this, we can classify the variables into simple regimes by incorporating the yield curve spreads (calculated by taking the difference of yields between long and short term maturities):"
   ]
  },
  {
   "cell_type": "code",
   "execution_count": null,
   "id": "ca56d529-0c54-494b-9d82-36f704ba3908",
   "metadata": {},
   "outputs": [],
   "source": [
    "# Determine curve regime based on inversion status and change direction\n",
    "if is_inverted:\n",
    "    if spread_change > 0.05:\n",
    "        # Inverted but steepening - often signals end of tightening\n",
    "        regime_info['curve_regime'] = \"inverted_steepening\"\n",
    "    else:\n",
    "        # Strongly inverted - typical of late-cycle\n",
    "        regime_info['curve_regime'] = \"inverted_flat\"\n",
    "else:\n",
    "    if spread_change > 0.1:\n",
    "        # Rapidly steepening - often signals easing\n",
    "        regime_info['curve_regime'] = \"steepening\"\n",
    "    elif spread_change < -0.1:\n",
    "        # Flattening - typical of tightening\n",
    "        regime_info['curve_regime'] = \"flattening\"\n",
    "    else:\n",
    "        regime_info['curve_regime'] = \"normal\""
   ]
  },
  {
   "cell_type": "markdown",
   "id": "be68e0a9-d201-4899-a38d-bceb297d2636",
   "metadata": {},
   "source": [
    "This regime awareness allows the model to account for business cycle dynamics, adjusting forecasts based on whether the market is in a tightening cycle, easing cycle, or transitioning between regimes. \n",
    "\n",
    "Thus, combining all the exogenous variables with an easier-to-work-with model (exponential decay) was the focus of research throughout the majority of this project. While results are still not on par with the widespread statistical forecasting models (AFNS), the error metric results are seemingly decent enough that further research likely could reveal a statistically significant improvement in yield curve forecasting."
   ]
  },
  {
   "cell_type": "markdown",
   "id": "0c4ecb24-f435-4da3-907c-6f20a63f5162",
   "metadata": {},
   "source": [
    "### Building a Dynamic Dash App ###"
   ]
  },
  {
   "cell_type": "markdown",
   "id": "bea0fedc-a2f6-462e-9c6b-f9755dbfd3cf",
   "metadata": {},
   "source": [
    "The Dash application integrates all the components into a cohesive, interactive user interface. It's built using a modular architecture that separates concerns between data access, model computation, and presentation, allowing for easier maintenance and future enhancements.\n",
    "The application features three main tabs:\n",
    "\n",
    "- **Visualization Tab**: Interactive 3D visualization of historical and forecasted yield curves\n",
    "- **Backtesting Tab**: Model evaluation and performance metrics across different time horizons\n",
    "- **Analysis Tab**: Statistical analysis, spread visualization, and market regime detection"
   ]
  },
  {
   "cell_type": "markdown",
   "id": "f3a33e17-45af-4023-b7cb-bd5051273cf5",
   "metadata": {},
   "source": [
    "The application uses a modular design pattern that separates concerns between different functional areas:\n",
    "\n",
    "(Note: The code for the Dash app in `dashboard.py` is long, thus snippets will be highlighted)"
   ]
  },
  {
   "cell_type": "code",
   "execution_count": null,
   "id": "19dc1c08-3b69-4d59-8174-f7c2ad929f13",
   "metadata": {},
   "outputs": [],
   "source": [
    "def create_app():\n",
    "    \"\"\"Creates and configures the Dash application for yield curve analysis.\"\"\"\n",
    "    # Initialize Dash app with Bootstrap styling\n",
    "    app = Dash(__name__, external_stylesheets=[dbc.themes.BOOTSTRAP])\n",
    "\n",
    "    # Define the application layout with multiple tabs\n",
    "    app.layout = html.Div([\n",
    "        # Navigation header\n",
    "        dbc.NavbarSimple(\n",
    "            brand=\"Yield Curve Analysis & Forecasting Dashboard\",\n",
    "            brand_href=\"#\",\n",
    "            color=\"primary\",\n",
    "            dark=True,\n",
    "        ),\n",
    "        \n",
    "        # State storage components\n",
    "        dcc.Store(id='current-model-store', data='Heuristic'),\n",
    "        dcc.Store(id='selected-maturities-store', data=[]),\n",
    "        dcc.Store(id='backtest-state-store', data={}),\n",
    "        dcc.Store(id='viz-needs-refresh', data=False),\n",
    "        \n",
    "        # Main tab structure\n",
    "        dbc.Tabs([\n",
    "            # Tab 1: 3D Visualization\n",
    "            dbc.Tab(label=\"Yield Curve Visualization\", tab_id=\"tab-visualization\", children=[...]),\n",
    "            # Tab 2: Backtesting\n",
    "            dbc.Tab(label=\"Backtesting & Evaluation\", tab_id=\"tab-backtest\", children=[...]),\n",
    "            # Tab 3: Analysis\n",
    "            dbc.Tab(label=\"Statistics & Analysis\", tab_id=\"tab-analysis\", children=[...])\n",
    "        ], id=\"main-tabs\")\n",
    "    ])\n",
    "    \n",
    "    # Further code\n",
    "    # ...\n",
    "    \n",
    "    return app"
   ]
  },
  {
   "cell_type": "markdown",
   "id": "4ce1affd-5d0c-485f-aabf-ee7a29815757",
   "metadata": {},
   "source": [
    "The layout structure follows a hierarchical organization with tabs, rows, columns, and individual components, all styled with Bootstrap for a professional appearance."
   ]
  },
  {
   "cell_type": "markdown",
   "id": "33f47036-0cb6-4bd3-919f-309d48543d23",
   "metadata": {},
   "source": [
    "One of the most important aspects of the Dash app is how it manages state between user interactions:"
   ]
  },
  {
   "cell_type": "code",
   "execution_count": null,
   "id": "9ed66066-8d4e-41cf-89a5-d05fd03128d8",
   "metadata": {},
   "outputs": [],
   "source": [
    "# State storage components\n",
    "dcc.Store(id='current-model-store', data='Heuristic'),\n",
    "dcc.Store(id='selected-maturities-store', data=[]),\n",
    "dcc.Store(id='backtest-state-store', data={}),\n",
    "dcc.Store(id='viz-needs-refresh', data=False),"
   ]
  },
  {
   "cell_type": "markdown",
   "id": "029cd626-0691-4474-9f2d-a5135598ca75",
   "metadata": {},
   "source": [
    "These `dcc.Store` components serve as client-side state containers that persist between callback executions. This approach:\n",
    "\n",
    "- Reduces redundant computations by storing user selections and current state\n",
    "- Prevents unnecessary re-rendering of complex visualizations\n",
    "- Enables communication between different parts of the application\n",
    "\n",
    "For instance, when a user runs a backtest, the application stores the results in `backtest-state-store` and sets `viz-needs-refresh` to `True`, which triggers a refresh of the visualization when the user returns to that tab.\n",
    "\n",
    "This was implemented in order to prevent issues with backtests potentially interfering with the 3D visualization."
   ]
  },
  {
   "cell_type": "markdown",
   "id": "d4703cb7-7f37-43f0-8cf4-610bef02a81e",
   "metadata": {},
   "source": [
    "The application uses a sophisticated callback system to handle user interactions. We'll look at one of the key callbacks used to change visualizations based on user-selected forecasting models:"
   ]
  },
  {
   "cell_type": "code",
   "execution_count": null,
   "id": "07a9795c-6c39-4167-9cc3-34d6eed116e1",
   "metadata": {},
   "outputs": [],
   "source": [
    "@app.callback(\n",
    "    [Output(\"yield-curve-graph\", \"figure\"),\n",
    "     Output(\"current-model-store\", \"data\"),\n",
    "     Output(\"selected-maturities-store\", \"data\")],\n",
    "    [Input(\"forecast-model-dropdown\", \"value\"),\n",
    "     Input(\"maturities-dropdown\", \"value\")],\n",
    "    [State(\"current-model-store\", \"data\"),\n",
    "     State(\"selected-maturities-store\", \"data\")],\n",
    "    prevent_initial_call=False\n",
    ")\n",
    "def update_figure(forecast_model, selected_maturities, current_model, stored_maturities):\n",
    "    \"\"\"Updates the 3D yield curve visualization based on user selections.\"\"\"\n",
    "    # Use fallback values if inputs are empty/None\n",
    "    if forecast_model is None or forecast_model == \"\":\n",
    "        forecast_model = current_model or \"Heuristic\"\n",
    "    \n",
    "    if selected_maturities is None:\n",
    "        selected_maturities = stored_maturities or []\n",
    "    \n",
    "    # Generate the 3D visualization with error handling\n",
    "    try:\n",
    "        fig = plotting.generate_surface_plot(\n",
    "            forecast_model, \n",
    "            selected_maturities, \n",
    "            config.DB_FILE, \n",
    "            config.DEFAULT_START_DATE, \n",
    "            config.DEFAULT_END_DATE, \n",
    "            vix_data\n",
    "        )\n",
    "        return fig, forecast_model, selected_maturities\n",
    "    except Exception as e:\n",
    "        # Create error message figure\n",
    "        fig = go.Figure()\n",
    "        fig.add_annotation(text=f\"Error: {str(e)}\", \n",
    "                          xref=\"paper\", yref=\"paper\", \n",
    "                          x=0.5, y=0.5, showarrow=False)\n",
    "        return fig, forecast_model, selected_maturities"
   ]
  },
  {
   "cell_type": "markdown",
   "id": "142a9976-e12b-408b-82ad-f9410dd8b51d",
   "metadata": {},
   "source": [
    "This callback demonstrates several important principles:\n",
    "\n",
    "- **Multiple outputs**: The callback updates both the visualization and store components in a single operation\n",
    "- **State usage**: It uses current state values as fallbacks, ensuring the application behaves predictably\n",
    "- **Error handling**: The callback catches exceptions and provides user-friendly error messages\n",
    "- **Parameter delegation**: The actual visualization work is delegated to the plotting module"
   ]
  },
  {
   "cell_type": "markdown",
   "id": "42ffa777-4fc3-4726-bdaf-d1e11b2458ba",
   "metadata": {},
   "source": [
    "![](dashapp.png)"
   ]
  },
  {
   "cell_type": "markdown",
   "id": "a686b988-8a78-4a02-8690-3fcfbaab4a61",
   "metadata": {},
   "source": [
    "This interactive application makes complex yield curve analysis accessible and intuitive, allowing users to quickly switch between different views, models, and analytical tools without requiring deep technical knowledge of the underlying implementation details."
   ]
  },
  {
   "cell_type": "markdown",
   "id": "59038b71-e2da-444e-ab88-1747024f59df",
   "metadata": {},
   "source": [
    "## Conclusion and Ethical Considerations ##"
   ]
  },
  {
   "cell_type": "markdown",
   "id": "3c622cf2-c8b0-44e6-aefd-45f6af2fa7f6",
   "metadata": {},
   "source": [
    "The Yield Curve Forecasting tool provides a comprehensive platform for fixed income analysis, combining sophisticated mathematical modeling with interactive visualizations. The system's ability to incorporate market regimes, inflation data, and volatility metrics produces forecasts that adapt to changing economic conditions. The backtesting framework provides transparency about model performance, allowing users to make informed decisions based on historical accuracy."
   ]
  },
  {
   "cell_type": "markdown",
   "id": "581259d6-3792-4e12-8fd8-7e1bcd319108",
   "metadata": {},
   "source": [
    "### Ethics ###"
   ]
  },
  {
   "cell_type": "markdown",
   "id": "8f386c7e-00c4-49ec-bf32-bc45b5c62646",
   "metadata": {},
   "source": [
    "While the tool provides valuable insights for users ranging from intermediate investors to fixed income analysts, several ethical considerations are important to acknowledge:\n",
    "\n",
    "- **Model Transparency**: The application makes clear that all forecasts are probabilistic in nature and subject to uncertainty. The backtesting framework helps users understand the limitations of each model, preventing overconfidence in predictions.\n",
    "- **Financial Access Implications**: Tools that enhance fixed income analysis primarily benefit institutional investors and may widen the knowledge gap between professional and retail investors. This raises questions about equitable access to financial technology.\n",
    "- **Market Impact**: If widely adopted, model-based forecasting tools could potentially contribute to herding behavior in markets if many participants use similar models or strategies. The application's multiple models with different approaches help mitigate this risk.\n",
    "- **Data Privacy**: While the application uses public data, expansion to include proprietary or alternative data sources would require careful consideration of data privacy and usage rights.\n",
    "- **Regulatory Compliance**: Users must ensure that any investment decisions made using the tool comply with relevant regulations, particularly regarding model validation requirements for financial institutions."
   ]
  },
  {
   "cell_type": "code",
   "execution_count": null,
   "id": "9363421f-d912-49d7-ab9d-1ea97e8481f4",
   "metadata": {},
   "outputs": [],
   "source": []
  }
 ],
 "metadata": {
  "kernelspec": {
   "display_name": "Python 3 (ipykernel)",
   "language": "python",
   "name": "python3"
  },
  "language_info": {
   "codemirror_mode": {
    "name": "ipython",
    "version": 3
   },
   "file_extension": ".py",
   "mimetype": "text/x-python",
   "name": "python",
   "nbconvert_exporter": "python",
   "pygments_lexer": "ipython3",
   "version": "3.11.5"
  }
 },
 "nbformat": 4,
 "nbformat_minor": 5
}
