{
 "cells": [
  {
   "cell_type": "raw",
   "id": "88ee7986-8226-413b-90d5-841875f0cb35",
   "metadata": {},
   "source": [
    "---\n",
    "title: \"Data-Driven Movie Recommendations: Scrapy Web Scraping and Actor Network Graphs with NetworkX\"\n",
    "author: \"Emil Blaignan\"\n",
    "date: \"2025-02-08\"\n",
    "categories: [Scrapy, NetworkX, Plotly, Pandas, NumPy]\n",
    "toc: true\n",
    "toc-depth: 3\n",
    "---"
   ]
  },
  {
   "cell_type": "code",
   "execution_count": 1,
   "id": "a92be68f-736b-4763-8143-98fd22aa2a2e",
   "metadata": {
    "tags": []
   },
   "outputs": [],
   "source": [
    "#| echo: false\n",
    "\n",
    "import plotly.io as pio\n",
    "pio.renderers.default=\"iframe\""
   ]
  },
  {
   "cell_type": "markdown",
   "id": "6e8be730-d5a8-4ac3-8a6d-d6cc4fd272a6",
   "metadata": {},
   "source": [
    "![Network Graph of Movie Data](NetworkGraph.png)"
   ]
  },
  {
   "cell_type": "markdown",
   "id": "ab273223-a907-4b9e-a000-f9deacd5218e",
   "metadata": {},
   "source": [
    "## Introduction ##"
   ]
  },
  {
   "cell_type": "markdown",
   "id": "e34a305e-1b7a-4803-b75a-d0a3797bbff4",
   "metadata": {},
   "source": [
    "The TMDB (The Movie Database) is a comprehensive online database that provides detailed information on movies, TV shows, actors, and production crews. In this project, we will develop a Scrapy-based web crawler to extract movie and actor data from TMDB. The crawler is designed to navigate from a movie’s main page to its full cast list, retrieve actor profiles, and extract their filmographies. We will employ CSS selectors for precise data extraction, implement depth-controlled crawling to avoid unnecessary requests, and optimize request handling to improve performance. Finally, we will use the extracted data to identify patterns in shared actor collaborations across movies using NetworkX. Through this approach, we demonstrate how Scrapy can be leveraged to build a structured dataset for analyzing relationships within the film industry."
   ]
  },
  {
   "cell_type": "markdown",
   "id": "7e22bc7c-d4f5-48df-ba76-228c42436ebf",
   "metadata": {},
   "source": [
    "## Setting Up the Webscraper ##"
   ]
  },
  {
   "cell_type": "markdown",
   "id": "f8d56a55-58f8-42aa-aa09-15f0d7914946",
   "metadata": {},
   "source": [
    "In this section, we’ll first initialize the Scrapy framework, examine how TMDB organizes its data, and prepare our project for extracting meaningful movie-actor relationships."
   ]
  },
  {
   "cell_type": "markdown",
   "id": "006ba7dd-0b44-495f-b0fb-c1d98c0d1894",
   "metadata": {},
   "source": [
    "### Initializing the Scrapy Project ###"
   ]
  },
  {
   "cell_type": "markdown",
   "id": "1b1d8731-89c7-4704-ac3d-a2f380725a85",
   "metadata": {},
   "source": [
    "We'll start by creating a new Scrapy project.\n",
    "\n",
    "We can do this by opening the terminal and activating the relevant Python environment:"
   ]
  },
  {
   "cell_type": "code",
   "execution_count": null,
   "id": "3e3892df-4447-446c-ac07-42644b6cd150",
   "metadata": {},
   "outputs": [],
   "source": [
    "conda activate PIC16B-25W"
   ]
  },
  {
   "cell_type": "markdown",
   "id": "6e0fbd42-4d75-4573-8074-6891ac2fa21e",
   "metadata": {},
   "source": [
    "Next, create a Scrapy project by running:"
   ]
  },
  {
   "cell_type": "code",
   "execution_count": null,
   "id": "49ccffec-eb68-4325-9030-939cb3fc7935",
   "metadata": {},
   "outputs": [],
   "source": [
    "scrapy startproject TMDB_scraper\n",
    "cd TMDB_scraper"
   ]
  },
  {
   "cell_type": "markdown",
   "id": "c618c2d1-cb7a-4b02-8030-dcb14917b85b",
   "metadata": {},
   "source": [
    "Running this will create a folder named \"TMDB_scraper\" with the following contents inside:"
   ]
  },
  {
   "cell_type": "code",
   "execution_count": null,
   "id": "a3d83fb8-52e7-4c0f-8a74-7d6340fd5f01",
   "metadata": {},
   "outputs": [],
   "source": [
    "TMDB_scraper/\n",
    "│── scrapy.cfg                \n",
    "└── TMDB_scraper/\n",
    "    ├── spiders/              \n",
    "    │   └── tmdb_spider.py    # Our main spider script\n",
    "    ├── settings.py           # Scrapy settings file\n",
    "    ├── middlewares.py        \n",
    "    ├── pipelines.py          \n",
    "    └── __init__.py           "
   ]
  },
  {
   "cell_type": "markdown",
   "id": "118a95d5-d2dc-4f15-b380-54119aceb565",
   "metadata": {},
   "source": [
    "We'll only really need the `tmdb_spider.py` file, where we will write the logic for our scraper. We'll also make minor changes to the setting of our spider in `settings.py`."
   ]
  },
  {
   "cell_type": "markdown",
   "id": "e05b3e03-06a4-4256-8ac7-64e311c40308",
   "metadata": {},
   "source": [
    "### Understanding the TMDB Website Structure ###"
   ]
  },
  {
   "cell_type": "markdown",
   "id": "4c90ad47-ae1e-4345-85a9-051ffacce370",
   "metadata": {},
   "source": [
    "In order to extract the correct data, we need to analyze how TMDB organizes and displays its information. A movie page typically exhibits the following structure:"
   ]
  },
  {
   "cell_type": "markdown",
   "id": "6595b313-b484-4ae6-8ce8-0308896dab6f",
   "metadata": {},
   "source": [
    "**Movie Starting Page**<br>\n",
    "Once on a movie's starting page, we observe that the URL contains a movie ID. Our project will focus on *Harry Potter and the Sorcerer’s Stone*. the TMDB URL for *Harry Potter and the Sorcerer’s Stone* is:"
   ]
  },
  {
   "cell_type": "code",
   "execution_count": null,
   "id": "7ec0a7e0-9d34-48d5-b76e-9ca4278716d7",
   "metadata": {},
   "outputs": [],
   "source": [
    "https://www.themoviedb.org/movie/671-harry-potter-and-the-philosopher-s-stone/"
   ]
  },
  {
   "cell_type": "markdown",
   "id": "c7ae06e4-ebf9-47b6-800a-e0db2828ec4a",
   "metadata": {},
   "source": [
    "The movie ID `671-harry-potter-and-the-philosopher-s-stone` will be passed as an argument to our scraper."
   ]
  },
  {
   "cell_type": "markdown",
   "id": "f3e92860-c090-4661-9435-e6eac57f6738",
   "metadata": {},
   "source": [
    "**Navigate to the Cast & Crew Page**<br>\n",
    "Next we want to click on the \"Full Cast & Crew\" link which takes us to the following page:"
   ]
  },
  {
   "cell_type": "code",
   "execution_count": null,
   "id": "8410b391-5adf-4c39-a3be-3e4b4f4bd267",
   "metadata": {},
   "outputs": [],
   "source": [
    "https://www.themoviedb.org/movie/671-harry-potter-and-the-philosopher-s-stone/cast"
   ]
  },
  {
   "cell_type": "markdown",
   "id": "28e66afc-953a-4c39-828a-f9528db19f34",
   "metadata": {},
   "source": [
    "Notice that the URL is the same as the previous page, except for the `/cast` appended to the end. This page is where our spider will extract the list of actors (ignoring crew members)."
   ]
  },
  {
   "cell_type": "markdown",
   "id": "c3ed940f-1c81-41d8-9e58-d39f52c8b60a",
   "metadata": {},
   "source": [
    "**Extracting Actor Profiles**<br>\n",
    "Clicking on an actor’s name leads to the actor profile page:"
   ]
  },
  {
   "cell_type": "code",
   "execution_count": null,
   "id": "11f7d579-9a96-4743-95be-33ba1f22adad",
   "metadata": {},
   "outputs": [],
   "source": [
    "https://www.themoviedb.org/person/10980-daniel-radcliffe"
   ]
  },
  {
   "cell_type": "markdown",
   "id": "f85d135a-6ac8-4a4c-97b9-454ac9cb51b4",
   "metadata": {},
   "source": [
    "On this page, we need to find the \"Acting\" section, which contains a list of movies and TV shows the actor has performed in. There are multiple sections such as Production, Writing, and Acting. We must only extract movie titles listed under \"Acting\"."
   ]
  },
  {
   "cell_type": "markdown",
   "id": "0a1180c1-5c75-46e6-b021-3a00e9aaf465",
   "metadata": {},
   "source": [
    "### Configuring the Scrapy Crawler Settings ##"
   ]
  },
  {
   "cell_type": "markdown",
   "id": "04c06d13-9bc9-4026-9301-d37f8066dac6",
   "metadata": {},
   "source": [
    "To prevent excessive data requests while we are testing the crawler, we'll temporarily add the following line in `settings.py`:"
   ]
  },
  {
   "cell_type": "code",
   "execution_count": null,
   "id": "dad6cbaa-9fa1-475f-8765-a1acaa93221b",
   "metadata": {},
   "outputs": [],
   "source": [
    "CLOSESPIDER_PAGECOUNT = 20"
   ]
  },
  {
   "cell_type": "markdown",
   "id": "6c47750e-2957-47ef-a6f5-22871c6b416b",
   "metadata": {},
   "source": [
    "This stops the spider after 20 pages so we don’t accidentally send too many requests while debugging."
   ]
  },
  {
   "cell_type": "markdown",
   "id": "630195da-63d2-4557-874c-0d75b66cb748",
   "metadata": {},
   "source": [
    "When scraping, we'll look for the `200` status. If we run into the `403 Forbidden` error when TMDB detects that we’re a bot. A simple fix is changing the User-Agent in `settings.py`:"
   ]
  },
  {
   "cell_type": "code",
   "execution_count": null,
   "id": "3c61a7cd-46e3-47cd-b5ed-81deae618c69",
   "metadata": {},
   "outputs": [],
   "source": [
    "USER_AGENT = \"Mozilla/5.0 (Windows NT 10.0; Win64; x64) AppleWebKit/537.36 (KHTML, like Gecko) Chrome/112.0.0.0 Safari/537.36\""
   ]
  },
  {
   "cell_type": "markdown",
   "id": "69d9edb8-c502-404f-8398-7184d32138a9",
   "metadata": {},
   "source": [
    "This makes our scraper appear as a normal browser request, reducing the chance of being blocked."
   ]
  },
  {
   "cell_type": "markdown",
   "id": "af39b59a-6bad-4931-bbdc-ab103bcd323b",
   "metadata": {},
   "source": [
    "## Building the Scrapy Spider ##"
   ]
  },
  {
   "cell_type": "markdown",
   "id": "dbbb279a-3201-44db-9d10-b33f5aa98956",
   "metadata": {},
   "source": [
    "Now that our Scrapy project is set up and we have analyzed TMDB website structure, we can implement the three parsing methods in our spider:\n",
    "\n",
    "1. `parse()`: Navigates from the movie page to the Full Cast & Crew page.\n",
    "2. `parse_full_credits()`: Extracts the list of actors in the movie.\n",
    "3. `parse_actor_page()`: Extracts movies from the actor’s Acting section.\n",
    "\n",
    "Each of these methods will systematically extract the data we need. We'll write them into the `tmdb_spider.py` file."
   ]
  },
  {
   "cell_type": "markdown",
   "id": "d4e5cb96-6040-4205-bcff-3bbd3f78e6a4",
   "metadata": {},
   "source": [
    "### Navigating to the Cast & Crew Page ###"
   ]
  },
  {
   "cell_type": "markdown",
   "id": "a0159088-d701-4021-91ef-275287bcf66c",
   "metadata": {},
   "source": [
    "**parse():**<br>\n",
    "The `parse()` method starts from a movie’s main page and navigates to its Full Cast & Crew page. Since the cast page always follows the pattern `<movie_url>/cast`, we can simply append `/cast` to the current URL.\n",
    "\n",
    "Implementation:"
   ]
  },
  {
   "cell_type": "code",
   "execution_count": null,
   "id": "0cf2f39b-0f82-44d4-9bc6-5abc81f0e81e",
   "metadata": {},
   "outputs": [],
   "source": [
    "def parse(self, response):\n",
    "    \"\"\"\n",
    "    Navigates from the movie page to the Full Cast & Crew page.\n",
    "    \"\"\"\n",
    "    cast_url = response.url + \"/cast\" # Appends \"/cast\" to the end of the current URL.\n",
    "    \n",
    "    # Creates a Scrapy request to Cast URL and calls parse_full_credits().\n",
    "    yield scrapy.Request(url=cast_url, callback=self.parse_full_credits)"
   ]
  },
  {
   "cell_type": "markdown",
   "id": "442cdc59-f17d-4511-9779-3e9d5a3e6878",
   "metadata": {},
   "source": [
    "This method works by:\n",
    "\n",
    "- Extracting the Full Cast & Crew URL by appending \"/cast\" to the movie’s base URL.\n",
    "- Creating a Scrapy request to that URL and calling parse_full_credits() once the page is loaded.\n",
    "\n",
    "This method does not extract any data but ensures we reach the correct page for scraping actors."
   ]
  },
  {
   "cell_type": "markdown",
   "id": "b1c304ec-5a65-42d4-81e7-4e5b655b5d7d",
   "metadata": {},
   "source": [
    "### Extracting Actor Links ###"
   ]
  },
  {
   "cell_type": "markdown",
   "id": "551ae3e0-8bc5-4e5c-9de4-61f054f2c0a1",
   "metadata": {},
   "source": [
    "**parse_full_credits():**<br>\n",
    "Once we reach the Full Cast & Crew page, we need to extract only the actors listed in the cast section.\n",
    "\n",
    "Implementation:"
   ]
  },
  {
   "cell_type": "code",
   "execution_count": null,
   "id": "52a25100-72b3-4509-a5c5-b804bdf1a64d",
   "metadata": {},
   "outputs": [],
   "source": [
    "def parse_full_credits(self, response):\n",
    "    \"\"\"\n",
    "    Extracts actors from the Full Cast & Crew page \n",
    "    and yields requests for each actor’s page.\n",
    "    \"\"\"\n",
    "    # Selects all actor profile links <a> elements \n",
    "    # inside the cast list <ol class=\"people credits\">.\n",
    "    # Extracts the href attribute, which contains the link to the actor’s TMDB page.\n",
    "    actor_links = response.css('ol.people.credits li[data-order] div.info a[href^=\"/person/\"]::attr(href)').getall()\n",
    "\n",
    "    # Yields a new request for each actor’s profile page, calling parse_actor_page().\n",
    "    for link in actor_links:\n",
    "        yield scrapy.Request(url=response.urljoin(link), callback=self.parse_actor_page)"
   ]
  },
  {
   "cell_type": "markdown",
   "id": "64e97163-e748-4fc3-a574-e8bc54ef754b",
   "metadata": {},
   "source": [
    "This method works by:\n",
    "\n",
    "- Selecting all actor profile links `<a>` elements inside the cast list `<ol class=\"people credits\">`.\n",
    "- Extracting the href attribute, containing the link to the actor’s TMDB page.\n",
    "- Yielding a new request for each actor’s profile page, calling `parse_actor_page()` for further processing.\n",
    "\n",
    "This method ensures that **only actors (not crew members)** are processed."
   ]
  },
  {
   "cell_type": "markdown",
   "id": "03a8a222-e7d9-4484-badd-d151194afbc7",
   "metadata": {},
   "source": [
    "### Extracting Movie and TV Show Titles ###"
   ]
  },
  {
   "cell_type": "markdown",
   "id": "d6194419-aca4-4744-b719-f7fa952359b8",
   "metadata": {},
   "source": [
    "**parse_actor_page()**<br>\n",
    "On an actor’s TMDB page, movies and TV shows are categorized under multiple sections like Acting, Writing, Directing, and Producing. **We must extract only titles under the “Acting” section.**\n",
    "\n",
    "Implementation:"
   ]
  },
  {
   "cell_type": "code",
   "execution_count": null,
   "id": "1f81644d-d2cc-4c7a-bb82-7dbb0a6c025f",
   "metadata": {},
   "outputs": [],
   "source": [
    "def parse_actor_page(self, response):\n",
    "        \"\"\"\n",
    "        Extracts actor's name and their acting roles, yielding unique movie/TV titles.\n",
    "        \"\"\"\n",
    "        # Selector extracts actor's name\n",
    "        actor_name = response.css(\"h2.title a::text\").get()\n",
    "        \n",
    "        # Selector extracts section headers\n",
    "        section_headers = response.css(\"div.credits_list h3::text\").getall()\n",
    "\n",
    "        # Locates the \"Acting\" section\n",
    "        acting_index = section_headers.index(\"Acting\")\n",
    "\n",
    "        # Get all tables and extract titles from the Acting section\n",
    "        all_tables = response.css(\"div.credits_list table.card\")\n",
    "        acting_table = all_tables[acting_index]\n",
    "        titles = acting_table.css(\"a.tooltip bdi::text\").getall()\n",
    "\n",
    "        for movie_or_TV_name in titles:\n",
    "            yield {\"actor\": actor_name, \"movie_or_TV_name\": movie_or_TV_name}"
   ]
  },
  {
   "cell_type": "markdown",
   "id": "850fd907-ae5f-4441-b649-c3f17807b70a",
   "metadata": {},
   "source": [
    "This method works by:\n",
    "\n",
    "- Extracting the actor’s name from the `<h2 class=\"title\">` section.\n",
    "- Finding all section headers (e.g., \"Production\", \"Acting\") to locate the Acting section.\n",
    "- Finding the matching table for \"Acting\" and extracting all movie/TV show titles inside.\n",
    "- Yielding a dictionary containing (actor, movie/TV show) pairs.\n",
    "\n",
    "This method ensures that only acting credits are included."
   ]
  },
  {
   "cell_type": "markdown",
   "id": "6d96869d-70e8-4cca-976f-1accd01f9224",
   "metadata": {},
   "source": [
    "### Running the Scraper ###"
   ]
  },
  {
   "cell_type": "markdown",
   "id": "f1cf8748-9db1-4eac-bbdc-f2c5f89b42ca",
   "metadata": {},
   "source": [
    "Before we run our scraper, we can check that our CSS selectors are working by running this in the terminal:"
   ]
  },
  {
   "cell_type": "code",
   "execution_count": null,
   "id": "a2908b39-dac4-4388-a22c-c143ec7ab38f",
   "metadata": {},
   "outputs": [],
   "source": [
    "scrapy shell \"your_page_link\""
   ]
  },
  {
   "cell_type": "markdown",
   "id": "c11daa2f-7fb5-4c2b-8d2e-02244b3ea7e4",
   "metadata": {},
   "source": [
    "Within the shell for each page, we can run each selector in our three parse methods to see if it yields the desired output."
   ]
  },
  {
   "cell_type": "markdown",
   "id": "88b5ba16-6a7f-4954-8b12-c0f83ce4d031",
   "metadata": {},
   "source": [
    "After checking our selectors, we are ready to run the scraper with the following line:"
   ]
  },
  {
   "cell_type": "code",
   "execution_count": null,
   "id": "e5dadc44-9877-41bb-ba8a-1a4c96cba05f",
   "metadata": {},
   "outputs": [],
   "source": [
    "scrapy crawl tmdb_spider -o results.csv -a subdir=671-harry-potter-and-the-philosopher-s-stone"
   ]
  },
  {
   "cell_type": "markdown",
   "id": "e7008980-b28e-4d62-a52f-ee3f4e94b93a",
   "metadata": {},
   "source": [
    "This command will:\n",
    "\n",
    "1. Start at the *Harry Potter and the Sorcerer’s Stone* movie page.\n",
    "2. Extract all actors from the Full Cast & Crew page.\n",
    "3. Visit each actor’s profile and extract all movies in which they have acted.\n",
    "4. Save the results in `results.csv`."
   ]
  },
  {
   "cell_type": "markdown",
   "id": "639d0e0f-1222-4a56-917a-16b0051d9970",
   "metadata": {},
   "source": [
    "Our CSV file should look like:"
   ]
  },
  {
   "cell_type": "code",
   "execution_count": 3,
   "id": "c1e0cd88-ab28-42a8-afdd-65f9badbf5a4",
   "metadata": {
    "tags": []
   },
   "outputs": [
    {
     "data": {
      "text/html": [
       "<div>\n",
       "<style scoped>\n",
       "    .dataframe tbody tr th:only-of-type {\n",
       "        vertical-align: middle;\n",
       "    }\n",
       "\n",
       "    .dataframe tbody tr th {\n",
       "        vertical-align: top;\n",
       "    }\n",
       "\n",
       "    .dataframe thead th {\n",
       "        text-align: right;\n",
       "    }\n",
       "</style>\n",
       "<table border=\"1\" class=\"dataframe\">\n",
       "  <thead>\n",
       "    <tr style=\"text-align: right;\">\n",
       "      <th></th>\n",
       "      <th>actor</th>\n",
       "      <th>movie_or_TV_name</th>\n",
       "    </tr>\n",
       "  </thead>\n",
       "  <tbody>\n",
       "    <tr>\n",
       "      <th>0</th>\n",
       "      <td>Paul Marc Davis</td>\n",
       "      <td>Arthur &amp; Merlin: Knights of Camelot</td>\n",
       "    </tr>\n",
       "    <tr>\n",
       "      <th>1</th>\n",
       "      <td>Paul Marc Davis</td>\n",
       "      <td>Class</td>\n",
       "    </tr>\n",
       "    <tr>\n",
       "      <th>2</th>\n",
       "      <td>Paul Marc Davis</td>\n",
       "      <td>Son of God</td>\n",
       "    </tr>\n",
       "    <tr>\n",
       "      <th>3</th>\n",
       "      <td>Paul Marc Davis</td>\n",
       "      <td>The Bible</td>\n",
       "    </tr>\n",
       "    <tr>\n",
       "      <th>4</th>\n",
       "      <td>Paul Marc Davis</td>\n",
       "      <td>The Sky in Bloom</td>\n",
       "    </tr>\n",
       "    <tr>\n",
       "      <th>...</th>\n",
       "      <td>...</td>\n",
       "      <td>...</td>\n",
       "    </tr>\n",
       "    <tr>\n",
       "      <th>3121</th>\n",
       "      <td>Rupert Grint</td>\n",
       "      <td>The View</td>\n",
       "    </tr>\n",
       "    <tr>\n",
       "      <th>3122</th>\n",
       "      <td>Rupert Grint</td>\n",
       "      <td>GMTV</td>\n",
       "    </tr>\n",
       "    <tr>\n",
       "      <th>3123</th>\n",
       "      <td>Rupert Grint</td>\n",
       "      <td>The Tonight Show with Jay Leno</td>\n",
       "    </tr>\n",
       "    <tr>\n",
       "      <th>3124</th>\n",
       "      <td>Rupert Grint</td>\n",
       "      <td>An Audience with...</td>\n",
       "    </tr>\n",
       "    <tr>\n",
       "      <th>3125</th>\n",
       "      <td>Rupert Grint</td>\n",
       "      <td>Today</td>\n",
       "    </tr>\n",
       "  </tbody>\n",
       "</table>\n",
       "<p>3126 rows × 2 columns</p>\n",
       "</div>"
      ],
      "text/plain": [
       "                actor                     movie_or_TV_name\n",
       "0     Paul Marc Davis  Arthur & Merlin: Knights of Camelot\n",
       "1     Paul Marc Davis                                Class\n",
       "2     Paul Marc Davis                           Son of God\n",
       "3     Paul Marc Davis                            The Bible\n",
       "4     Paul Marc Davis                     The Sky in Bloom\n",
       "...               ...                                  ...\n",
       "3121     Rupert Grint                             The View\n",
       "3122     Rupert Grint                                 GMTV\n",
       "3123     Rupert Grint       The Tonight Show with Jay Leno\n",
       "3124     Rupert Grint                  An Audience with...\n",
       "3125     Rupert Grint                                Today\n",
       "\n",
       "[3126 rows x 2 columns]"
      ]
     },
     "execution_count": 3,
     "metadata": {},
     "output_type": "execute_result"
    }
   ],
   "source": [
    "#| echo: false\n",
    "import pandas as pd\n",
    "\n",
    "df = pd.read_csv(\"results.csv\")\n",
    "df"
   ]
  },
  {
   "cell_type": "markdown",
   "id": "9093398f-298b-469a-bb6c-4ff4b609d9c8",
   "metadata": {},
   "source": [
    "Now that we have successfully scraped the data, the next step is to analyze the results and create a visualization of shared actors across movies. In the next section, we will:\n",
    "\n",
    "- Filter the data to find movies with the most shared actors.\n",
    "- Create a network graph to visually represent relationships between movies and actors."
   ]
  },
  {
   "cell_type": "markdown",
   "id": "ca10da0b-c6c3-4f20-ae12-1119154b10fb",
   "metadata": {
    "tags": []
   },
   "source": [
    "## Visualizing Movie Recommendations ##"
   ]
  },
  {
   "cell_type": "markdown",
   "id": "3a2f7332-e57d-47c7-891a-78b56a67b52b",
   "metadata": {},
   "source": [
    "Once the scraper is complete, we need to analyze the results and present them in a meaningful way. Since our dataset consists of movies and actors, a network graph is an intuitive choice for visualization. A network graph allows us to see which movies share actors and how strongly they are connected."
   ]
  },
  {
   "cell_type": "markdown",
   "id": "6e48aaea-7af6-48ce-abc9-1758bf1446e2",
   "metadata": {},
   "source": [
    "### Processing the Scraped Data ###"
   ]
  },
  {
   "cell_type": "markdown",
   "id": "c6d23b3e-7c91-44f7-adc1-0d4a8cd7c5bc",
   "metadata": {},
   "source": [
    "The CSV output from our Scrapy spider contains two columns:\n",
    "\n",
    "- Actor: The name of the actor.\n",
    "- Movie or TV Show: The name of the movie or TV show they appeared in.\n",
    "\n",
    "To build a movie recommendation system, we'll look for movies that share multiple actors by the following:\n",
    "\n",
    "1. Grouping actors by movie: Create a mapping of each movie to the list of actors who starred in it.\n",
    "2. Compute shared actors: Identify pairs of movies that share actors.\n",
    "3. Filter based on shared actor count: We only include movies that share at least 5 actors in the final visualization."
   ]
  },
  {
   "cell_type": "markdown",
   "id": "55d6ef03-ff4f-4740-b7ec-2568127f5727",
   "metadata": {},
   "source": [
    "### Building the Network Graph ###"
   ]
  },
  {
   "cell_type": "markdown",
   "id": "1a09b405-e52b-44a8-bf94-e72c81f3d913",
   "metadata": {},
   "source": [
    "We'll use NetworkX to create a graph where:\n",
    "\n",
    "- Nodes represent movies and actors.\n",
    "- Edges exist between a movie node and an actor node if the actor starred in the movie.\n",
    "- Movies with more shared actors are emphasized by larger node size and distinct colors.\n",
    "\n",
    "Additionally, in order to enhance readability, we'll apply:\n",
    "\n",
    "- Node scaling to make movies with more shared actors appear larger.\n",
    "- Color encoding to assign colors to movie nodes using a thermal colormap, where warmer colors (yellow) indicate more shared actors and cooler colors less."
   ]
  },
  {
   "cell_type": "markdown",
   "id": "91331b1f-6fb5-4734-858a-d3c4938a1dd9",
   "metadata": {
    "tags": []
   },
   "source": [
    "### Deploying the Movie Network Graph ###"
   ]
  },
  {
   "cell_type": "markdown",
   "id": "c07a19d9-efa4-4b34-a037-4cb5b0c88582",
   "metadata": {},
   "source": [
    "First, we'll need to import the necessary packages to create our visualization:"
   ]
  },
  {
   "cell_type": "code",
   "execution_count": 8,
   "id": "dbc1809f-d9d3-4fa3-973f-cd1c5eef0876",
   "metadata": {
    "tags": []
   },
   "outputs": [],
   "source": [
    "import networkx as nx\n",
    "import plotly.graph_objects as go\n",
    "import pandas as pd\n",
    "import random\n",
    "import matplotlib.pyplot as plt\n",
    "import numpy as np"
   ]
  },
  {
   "cell_type": "markdown",
   "id": "2ed7ef0f-39d4-46a5-b1b5-37760d93aab4",
   "metadata": {},
   "source": [
    "Next, we will write a function that will take our CSV file and a minimum number of shared actors per movie as inputs (only recommend movies and TV shows with high actor correlation).\n",
    "\n",
    "The following function plots our interactive movie network graph with our desired specs:"
   ]
  },
  {
   "cell_type": "code",
   "execution_count": 11,
   "id": "a1f72a31-2551-4ee2-9920-2f8a61174299",
   "metadata": {
    "tags": []
   },
   "outputs": [],
   "source": [
    "def generate_movie_actor_network(csv_file, min_shared_actors):\n",
    "    \"\"\"\n",
    "    Generates a movie-actor network graph from a CSV file containing movie and actor relationships.\n",
    "    \n",
    "    \"\"\"\n",
    "\n",
    "    # Loads in the dataset\n",
    "    df = pd.read_csv(csv_file)\n",
    "\n",
    "    # Create a graph\n",
    "    G = nx.Graph()\n",
    "\n",
    "    # Build the mapping of movies to actors\n",
    "    movie_actor_map = {}\n",
    "    for _, row in df.iterrows():\n",
    "        movie = row[\"movie_or_TV_name\"]\n",
    "        actor = row[\"actor\"]\n",
    "        if movie not in movie_actor_map:\n",
    "            movie_actor_map[movie] = set()\n",
    "        movie_actor_map[movie].add(actor)\n",
    "\n",
    "    # Identify valid movies that share at least `min_shared_actors` actors with another movie\n",
    "    valid_movies = set()\n",
    "    for movie1 in movie_actor_map:\n",
    "        for movie2 in movie_actor_map:\n",
    "            if movie1 != movie2:\n",
    "                shared_actors = movie_actor_map[movie1] & movie_actor_map[movie2]\n",
    "                if len(shared_actors) >= min_shared_actors:\n",
    "                    valid_movies.add(movie1)\n",
    "                    valid_movies.add(movie2)\n",
    "\n",
    "    # Compute the number of unique actors in each valid movie\n",
    "    movie_shared_counts = {\n",
    "        movie: len(movie_actor_map[movie]) for movie in valid_movies\n",
    "    }\n",
    "    max_shared = max(movie_shared_counts.values(), default=1)  # Avoid division by zero\n",
    "\n",
    "    # Normalize sizes (scale between 10 and 55 for visualization purposes)\n",
    "    def scale_size(value, min_size=10, max_size=55):\n",
    "        return min_size + ((value - 3) / (max_shared - 3)) * (max_size - min_size) if max_shared > 3 else min_size\n",
    "\n",
    "    # Assign movie colors based on shared actor count using thermal color scale.\n",
    "    norm = plt.Normalize(vmin=min(movie_shared_counts.values(), default=0), vmax=max_shared)\n",
    "    thermal_colormap = plt.get_cmap(\"viridis\")\n",
    "\n",
    "    movie_colors = {\n",
    "        movie: f'rgb({int(r*255)},{int(g*255)},{int(b*255)})'\n",
    "        for movie, (r, g, b, _) in zip(\n",
    "            movie_shared_counts.keys(),\n",
    "            [thermal_colormap(norm(v)) for v in movie_shared_counts.values()]\n",
    "        )\n",
    "    }\n",
    "\n",
    "    # Add nodes and edges to the graph\n",
    "    for movie in valid_movies:\n",
    "        G.add_node(movie, type=\"movie\", size=scale_size(movie_shared_counts[movie]), color=movie_colors[movie])\n",
    "\n",
    "    for movie in valid_movies:\n",
    "        for actor in movie_actor_map[movie]:\n",
    "            if actor not in G:\n",
    "                G.add_node(actor, type=\"actor\", size=8, color=\"lightgray\")  # Smaller nodes for actors\n",
    "            G.add_edge(movie, actor)\n",
    "\n",
    "    # Compute graph layout for better spacing\n",
    "    pos = nx.spring_layout(G, seed=42, k=1.7)  # 'k' controls the node spacing\n",
    "\n",
    "    # Create scatter plot for nodes\n",
    "    node_trace = []\n",
    "    for node in G.nodes():\n",
    "        node_type = G.nodes[node][\"type\"]\n",
    "        x, y = pos[node]\n",
    "        color = G.nodes[node][\"color\"]\n",
    "        size = G.nodes[node][\"size\"]\n",
    "\n",
    "        # Set hover text for nodes\n",
    "        hover_text = node if node_type == \"actor\" else f\"{node}<br>Shared Actors: {movie_shared_counts[node]}\"\n",
    "\n",
    "        node_trace.append(go.Scatter(\n",
    "            x=[x], y=[y],\n",
    "            mode=\"markers\" if node_type == \"actor\" else \"markers+text\",\n",
    "            marker=dict(size=size, color=color, opacity=0.9, showscale=False),\n",
    "            hovertext=hover_text,\n",
    "            textposition=\"top center\" if node_type == \"movie\" else None\n",
    "        ))\n",
    "\n",
    "    # Create edges for connections between movies and actors\n",
    "    edge_trace = []\n",
    "    for edge in G.edges():\n",
    "        x0, y0 = pos[edge[0]]\n",
    "        x1, y1 = pos[edge[1]]\n",
    "        edge_trace.append(go.Scatter(\n",
    "            x=[x0, x1, None], y=[y0, y1, None],\n",
    "            mode=\"lines\",\n",
    "            line=dict(width=1, color=\"gray\"),\n",
    "            hoverinfo=\"none\",\n",
    "            opacity=0.2  # Light transparency for better visibility\n",
    "        ))\n",
    "\n",
    "    # Add a color bar to indicate shared actors\n",
    "    colorbar_trace = go.Scatter(\n",
    "        x=[None], y=[None],\n",
    "        mode='markers',\n",
    "        marker=dict(\n",
    "            colorscale=\"viridis\",  # Thermal color scheme\n",
    "            cmin=min(movie_shared_counts.values(), default=0),\n",
    "            cmax=max_shared,\n",
    "            showscale=True,\n",
    "            colorbar=dict(\n",
    "                title=\"# of Shared Actors\",\n",
    "                titleside=\"right\",  # Aligns title to the right\n",
    "                tickmode=\"array\",\n",
    "                tickvals=list(range(0, int(max_shared) + 1, 10)),\n",
    "                ticktext=[str(tick) for tick in range(0, int(max_shared) + 1, 10)],\n",
    "                tickfont=dict(size=10),  \n",
    "                len=1,  \n",
    "                thickness=20,  \n",
    "                outlinewidth=1.3,\n",
    "                xpad=6,  \n",
    "                x=0.97  \n",
    "            )\n",
    "        ),\n",
    "        hoverinfo='none'\n",
    "    )\n",
    "\n",
    "    # Create final figure\n",
    "    fig = go.Figure(data=edge_trace + node_trace + [colorbar_trace])\n",
    "    fig.update_layout(\n",
    "        title=dict(\n",
    "            text=\"Movie Recs: Movie-Actor Network Graph\",\n",
    "            x=0.427,  \n",
    "            xanchor=\"center\",\n",
    "            yanchor=\"top\",\n",
    "            font=dict(size=20)  \n",
    "        ),\n",
    "        showlegend=False,\n",
    "        hovermode=\"closest\",\n",
    "        margin=dict(b=20, l=5, r=140, t=40),\n",
    "        xaxis=dict(showgrid=False, zeroline=False, showticklabels=False),\n",
    "        yaxis=dict(showgrid=False, zeroline=False, showticklabels=False),\n",
    "        plot_bgcolor=\"white\",  \n",
    "        paper_bgcolor=\"white\"  \n",
    "    )\n",
    "\n",
    "    # Display the graph\n",
    "    return fig"
   ]
  },
  {
   "cell_type": "markdown",
   "id": "33f9c26a-1855-4abc-9971-e99839f59c2d",
   "metadata": {},
   "source": [
    "We can call our plotting function with our CSV and minimum shared actors by running the following:"
   ]
  },
  {
   "cell_type": "code",
   "execution_count": 12,
   "id": "8392ca9a-8deb-4ce4-97e0-5007bb093330",
   "metadata": {
    "tags": []
   },
   "outputs": [
    {
     "data": {
      "text/html": [
       "<iframe\n",
       "    scrolling=\"no\"\n",
       "    width=\"100%\"\n",
       "    height=\"545px\"\n",
       "    src=\"iframe_figures/figure_12.html\"\n",
       "    frameborder=\"0\"\n",
       "    allowfullscreen\n",
       "></iframe>\n"
      ]
     },
     "metadata": {},
     "output_type": "display_data"
    }
   ],
   "source": [
    "fig = generate_movie_actor_network(csv_file = \"results.csv\", \n",
    "                                   min_shared_actors=5)\n",
    "\n",
    "fig.show()"
   ]
  },
  {
   "cell_type": "markdown",
   "id": "ea2ebeb2-6bde-4091-a080-919fe71662fa",
   "metadata": {},
   "source": [
    "### Interpretting the Visualization ###"
   ]
  },
  {
   "cell_type": "markdown",
   "id": "fa91dc99-6f89-4992-a2b4-9e5ae7aab9ce",
   "metadata": {},
   "source": [
    "By analyzing the graph, we can identify:\n",
    "\n",
    "- Highly interconnected movies: Franchises and sequels (e.g., Harry Potter Series) tend to cluster together.\n",
    "- Unexpected connections: Some movies share actors despite belonging to different genres.\n",
    "- Strongest recommendations: The best recommendations are movies that share the most actors with the chosen starting movie.\n",
    "\n",
    "This approach demonstrates how web scraping and network analysis can be combined to generate meaningful movie recommendations based purely on cast overlap, without using machine learning."
   ]
  },
  {
   "cell_type": "markdown",
   "id": "cfa6b60b-040f-4fd1-9ccd-fc5068690004",
   "metadata": {},
   "source": [
    "\n",
    "\n",
    "\n",
    "\n",
    "\n",
    "**Resources Used (For NetworkX Visualization):**<br>\n",
    "\n",
    "- https://plotly.com/python/network-graphs/\n",
    "- https://community.plotly.com/t/is-plotly-able-to-integrate-with-networkx-graph/59115"
   ]
  },
  {
   "cell_type": "code",
   "execution_count": null,
   "id": "5d815b84-d018-453f-a31a-e44a4abbe5e3",
   "metadata": {},
   "outputs": [],
   "source": []
  }
 ],
 "metadata": {
  "kernelspec": {
   "display_name": "Python 3 (ipykernel)",
   "language": "python",
   "name": "python3"
  },
  "language_info": {
   "codemirror_mode": {
    "name": "ipython",
    "version": 3
   },
   "file_extension": ".py",
   "mimetype": "text/x-python",
   "name": "python",
   "nbconvert_exporter": "python",
   "pygments_lexer": "ipython3",
   "version": "3.11.5"
  }
 },
 "nbformat": 4,
 "nbformat_minor": 5
}
