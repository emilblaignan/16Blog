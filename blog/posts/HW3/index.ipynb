{
 "cells": [
  {
   "cell_type": "raw",
   "id": "dff7a821-28dd-44d2-8f16-090b8d36b2bb",
   "metadata": {
    "tags": []
   },
   "source": [
    "---\n",
    "title: \"Building a Visually Appealing Message Bank Web App with Dash & SQLite\"\n",
    "author: \"Emil Blaignan\"\n",
    "date: \"2025-02-16\"\n",
    "categories: [Dash, SQL]\n",
    "toc: true\n",
    "toc-depth: 3\n",
    "---"
   ]
  },
  {
   "cell_type": "markdown",
   "id": "85af87f9-b760-4bc5-84bb-c264f1280ef7",
   "metadata": {},
   "source": [
    "![](App_homepage.png)"
   ]
  },
  {
   "cell_type": "markdown",
   "id": "c083ffe0-9b17-4641-9373-dc2d0e2064d4",
   "metadata": {},
   "source": [
    "## Introduction ##"
   ]
  },
  {
   "cell_type": "markdown",
   "id": "02146117-d2f5-4529-871a-b1b059e085df",
   "metadata": {},
   "source": [
    "Dash is a Python framework for building web applications using Flask, Plotly, and React. It enables developers to create interactive web apps with minimal front-end knowledge, making it a great choice for data-driven applications. We will work through the process of building a simple message bank web app using Dash and SQLite. This app will allow users to submit and view messages dynamically through an interactive interface."
   ]
  },
  {
   "cell_type": "markdown",
   "id": "c94121b5-44ca-499a-8ff8-038d76f0ea1f",
   "metadata": {},
   "source": [
    "## Getting Started... ##"
   ]
  },
  {
   "cell_type": "markdown",
   "id": "6fe1712f-6f3a-421d-a46b-5ab022d023a4",
   "metadata": {},
   "source": [
    "Before creating our web app, we must import the necessary packages and initialize the app."
   ]
  },
  {
   "cell_type": "markdown",
   "id": "b22d1ba4-b462-4478-a1f3-20ef663e30ce",
   "metadata": {},
   "source": [
    "### Importing Necessary Packages ###"
   ]
  },
  {
   "cell_type": "markdown",
   "id": "8c3c6380-5111-400c-991e-acb0a323fd55",
   "metadata": {},
   "source": [
    "We'll import the following packages for our web app:"
   ]
  },
  {
   "cell_type": "code",
   "execution_count": null,
   "id": "1a298d3a-9f40-46f7-aa15-9c777dd902e0",
   "metadata": {},
   "outputs": [],
   "source": [
    "import sqlite3\n",
    "from dash import Dash, html, dcc, Input, Output, State\n",
    "import dash_bootstrap_components as dbc"
   ]
  },
  {
   "cell_type": "markdown",
   "id": "22d95ea2-b8b9-48d2-ad30-1c3c567c03b7",
   "metadata": {},
   "source": [
    "How the packages will be used:\n",
    "\n",
    "- `sqlite3`: Handles database operations\n",
    "- `Dash`: Creates the web application\n",
    "- `html`, `dcc`: Build UI components\n",
    "- `Input`, `Output`, `State`: Used for Dash callbacks\n",
    "- `dbc (Dash Bootstrap Components)`: Provides pre-styled UI components"
   ]
  },
  {
   "cell_type": "markdown",
   "id": "55b0baa7-b57e-446e-9036-d08001a52c91",
   "metadata": {},
   "source": [
    "### Set Global Styling (Dark Mode) ###"
   ]
  },
  {
   "cell_type": "markdown",
   "id": "cd0278dd-63eb-45b6-9028-b4fc46b4a91a",
   "metadata": {},
   "source": [
    "We'll build a web app with a dark theme, so we need to set our custom global CSS styling. \n",
    "We can do so by running:"
   ]
  },
  {
   "cell_type": "code",
   "execution_count": null,
   "id": "63cbd838-596f-4e13-8131-afa963b2dfc0",
   "metadata": {},
   "outputs": [],
   "source": [
    "# Custom CSS for additional styling\n",
    "custom_css = {\n",
    "    'dark-card': {\n",
    "        'backgroundColor': '#2a2a2a', # Hex Color code\n",
    "        'border': '1px solid #404040',\n",
    "        'borderRadius': '15px',\n",
    "        'boxShadow': '0 4px 8px 0 rgba(0,0,0,0.2)'\n",
    "    },\n",
    "    'input-style': {\n",
    "        'backgroundColor': '#333333',\n",
    "        'color': 'white',\n",
    "        'border': '1px solid #404040'\n",
    "    },\n",
    "    'message-card': {\n",
    "        'backgroundColor': '#1e1e1e',\n",
    "        'border': '1px solid #404040',\n",
    "        'borderRadius': '10px'\n",
    "    }\n",
    "}"
   ]
  },
  {
   "cell_type": "markdown",
   "id": "7997d5d0-dca4-4c6d-92fe-fd219cb138a7",
   "metadata": {},
   "source": [
    "### Initializing Our Web App ###"
   ]
  },
  {
   "cell_type": "markdown",
   "id": "269e2616-3aed-47f7-9a0f-68760366fc69",
   "metadata": {},
   "source": [
    "We'll initialize the Dash app by running:"
   ]
  },
  {
   "cell_type": "code",
   "execution_count": null,
   "id": "43df87f8-46c2-49b3-a783-fbce7040518b",
   "metadata": {},
   "outputs": [],
   "source": [
    "# Initialize the app\n",
    "app = Dash(__name__, external_stylesheets=[dbc.themes.DARKLY])\n",
    "app.title = \"Message Bank\""
   ]
  },
  {
   "cell_type": "markdown",
   "id": "f9cc30f7-7d36-4446-8446-9c098a918559",
   "metadata": {},
   "source": [
    "Running the code above does the following:\n",
    "\n",
    "- Initializes the Dash application\n",
    "- Loads Bootstrap styling (DARKLY for dark theme)\n",
    "- Sets the page title"
   ]
  },
  {
   "cell_type": "markdown",
   "id": "e4b211fe-97b2-4c0a-b832-f220ef8296d2",
   "metadata": {},
   "source": [
    "### Defining the App Layout ###"
   ]
  },
  {
   "cell_type": "markdown",
   "id": "daa675c2-f79c-4c44-9315-12beb9621fb5",
   "metadata": {},
   "source": [
    "We'll begin defining the app layout by running the following:"
   ]
  },
  {
   "cell_type": "code",
   "execution_count": null,
   "id": "c1dc7f04-62d8-4dcf-8ad1-03a0634b5d61",
   "metadata": {},
   "outputs": [],
   "source": [
    "# App layout with dark theme\n",
    "app.layout = dbc.Container(fluid=True, style={'padding': '20px'}, children=[\n",
    "    html.Div([\n",
    "        html.H1(\"Message Bank\", # Create app title block\n",
    "                className=\"text-center mt-4 mb-4\", \n",
    "                style={'color': '#6f42c1', 'fontWeight': 'bold'}),\n",
    "    ], style={'backgroundColor': 'transparent', 'color': '#ffffff', \n",
    "              'fontFamily': 'Roboto, sans-serif'}), # Change color (hex code) and font"
   ]
  },
  {
   "cell_type": "markdown",
   "id": "578cadbb-20ee-4fbc-b0a7-8c0a93b0ae4c",
   "metadata": {},
   "source": [
    "The code includes:\n",
    "\n",
    "- `dbc.Container(fluid=True)` creates a full responsive layout.\n",
    "- `children` will include all the features we add.\n",
    "- `html.H1()` displays the title \"Message Bank.\"\n",
    "- `style` contains the color information for the title.\n",
    "\n",
    "We'll add more to this code block as we add the layout for the submission and viewing features."
   ]
  },
  {
   "cell_type": "markdown",
   "id": "b309ad5e-7359-4c44-85c8-ac4a4921e295",
   "metadata": {},
   "source": [
    "## Setting Up the Submission System... ##"
   ]
  },
  {
   "cell_type": "markdown",
   "id": "4e59824b-ff83-4b5e-a4e0-d77b1c29c4da",
   "metadata": {},
   "source": [
    "In this section we will set up the submission system so that users will be able to to enter a name or user and a message and submit. By hitting submit, the name and message will be added to the `message_db` database so that later they can be retrieved in the view section. All of this functionality will be wrapped in a user-friendly UI."
   ]
  },
  {
   "cell_type": "markdown",
   "id": "4891c7a5-085e-4fb5-a39c-50e2d80dc994",
   "metadata": {},
   "source": [
    "### Creating the UI for Submitting Messages ###"
   ]
  },
  {
   "cell_type": "markdown",
   "id": "585b6653-b915-45b1-95ff-550f12e6fa1f",
   "metadata": {},
   "source": [
    "Before handling the database and necessary functions, we'll first create the input form where users will submit their messages.\n",
    "\n",
    "We'll add the code for creating the submission UI into `app.layout` as another child:"
   ]
  },
  {
   "cell_type": "code",
   "execution_count": null,
   "id": "2ff25a7d-c438-4a00-9ef8-f7211250cbee",
   "metadata": {},
   "outputs": [],
   "source": [
    "# App layout with dark theme\n",
    "app.layout = dbc.Container(fluid=True, style={'padding': '20px'}, children=[\n",
    "    html.Div([\n",
    "        html.H1(\"Message Bank\", # Create app title block\n",
    "                className=\"text-center mt-4 mb-4\", \n",
    "                style={'color': '#6f42c1', 'fontWeight': 'bold'}),\n",
    "    ], style={'backgroundColor': 'transparent', 'color': '#ffffff', \n",
    "              'fontFamily': 'Roboto, sans-serif'}), # Change color (hex code) and font\n",
    "\n",
    "# New Code: ------------------------------------------------------------------\n",
    "    \n",
    "    # Submission Section\n",
    "    dbc.Card(className=\"dark-card\", children=[ # Submission has its own children\n",
    "        dbc.CardBody(className=\"mb-4\", children=[  \n",
    "            html.H2(\"Submit a Message\", # Title for Submission UI\n",
    "                    className=\"card-title mb-3\", \n",
    "                    style={'color': '#6f42c1'}), # Styling\n",
    "            dcc.Input( # Creates input box for user-name\n",
    "                id='handle-input',\n",
    "                type='text',\n",
    "                placeholder='Your name',\n",
    "                className='mb-3 form-control',\n",
    "                style={**custom_css['input-style'], 'height': '45px'} # Global CSS\n",
    "            ),\n",
    "            dcc.Textarea( # Creates message box\n",
    "                id='message-input',\n",
    "                placeholder='Your message...',\n",
    "                className='mb-3 form-control',\n",
    "                style={**custom_css['input-style'], 'height': '150px'}\n",
    "            ),\n",
    "            dbc.Button( # Creates submit button\n",
    "                \"Submit\",\n",
    "                id='submit-button',\n",
    "                color=\"primary\",\n",
    "                className='mb-3 w-100',\n",
    "                style={'backgroundColor': '#6f42c1', 'border': 'none'}\n",
    "            ),\n",
    "            html.Div(id='submit-confirmation') # Creates submission confirmation\n",
    "        ])\n",
    "    ]),"
   ]
  },
  {
   "cell_type": "markdown",
   "id": "ca91c4d0-d773-450e-94a6-581f3f59a173",
   "metadata": {},
   "source": [
    "What `dbc.Card` code does:\n",
    "\n",
    "- Creates a name input field `dcc.Input()`\n",
    "- Creates a message input field `dcc.Textarea()`\n",
    "- Adds a Submit button `dbc.Button()`\n",
    "- Adds a confirmation message area `html.Div()`\n",
    "\n",
    "At this point, the UI is set up but does not store messages yet."
   ]
  },
  {
   "cell_type": "markdown",
   "id": "de9183f0-f223-4bc1-bf0e-3764a1b230e2",
   "metadata": {},
   "source": [
    "### Creating the Database to Store Messages ###"
   ]
  },
  {
   "cell_type": "markdown",
   "id": "7c1d8ba6-803d-4bf5-97f3-5eb4c1606e0b",
   "metadata": {},
   "source": [
    "Since we need to store user messages, we'll use SQLite.\n",
    "\n",
    "We can write a function `def get_message_db()` to initialize and return the SQLite database connection:"
   ]
  },
  {
   "cell_type": "code",
   "execution_count": null,
   "id": "4d9da5b8-d031-4066-bb53-4a7c1e3cf24d",
   "metadata": {},
   "outputs": [],
   "source": [
    "# Database setup\n",
    "message_db = None\n",
    "\n",
    "def get_message_db():\n",
    "    # Retrieve or create the message database.\n",
    "    global message_db\n",
    "    if message_db:\n",
    "        return message_db\n",
    "    else:\n",
    "        message_db = sqlite3.connect(\"messages_db.sqlite\", check_same_thread=False)\n",
    "        cmd = \"\"\"\n",
    "            CREATE TABLE IF NOT EXISTS messages \n",
    "            (handle TEXT, message TEXT)\n",
    "        \"\"\"\n",
    "        # Creates table if not existing\n",
    "        # Queries for user handle & message\n",
    "        cursor = message_db.cursor()\n",
    "        cursor.execute(cmd)\n",
    "        message_db.commit()\n",
    "        return message_db"
   ]
  },
  {
   "cell_type": "markdown",
   "id": "ada7387e-d8d1-4783-a105-eac0a6060094",
   "metadata": {},
   "source": [
    "What the function does:\n",
    "\n",
    "- Connects to `messages_db.sqlite`\n",
    "- Creates a messages table (if it doesn’t exist) with:<br>\n",
    "        1. `handle`: user’s name<br>\n",
    "        2. `message`: user’s message"
   ]
  },
  {
   "cell_type": "markdown",
   "id": "8ccfc58b-2386-4148-a0fe-5f34453c9952",
   "metadata": {},
   "source": [
    "### Writing a Function to Insert Messages ###"
   ]
  },
  {
   "cell_type": "markdown",
   "id": "312d7b28-5cd1-461a-991a-a092f7866353",
   "metadata": {},
   "source": [
    "Now that we have a database, we need to store user messages.\n",
    "\n",
    "We can write a function `def insert_message()` to insert a new message into the database:"
   ]
  },
  {
   "cell_type": "code",
   "execution_count": null,
   "id": "13d8045a-deee-46f7-8895-358ba8b6f100",
   "metadata": {},
   "outputs": [],
   "source": [
    "def insert_message(handle, message):\n",
    "    db = get_message_db()\n",
    "    cursor = db.cursor()\n",
    "    # Don't use f-string.\n",
    "    # Use parameterized queries (?, ?) to prevent SQL injection & handle special characters\n",
    "    cursor.execute(\"INSERT INTO messages (handle, message) VALUES (?, ?)\", (handle, message))\n",
    "    db.commit()\n",
    "    db.close()\n",
    "    global message_db\n",
    "    message_db = None"
   ]
  },
  {
   "cell_type": "markdown",
   "id": "3724e77a-67d3-402e-879b-703b31b3306a",
   "metadata": {},
   "source": [
    "What the function does:\n",
    "\n",
    "- Saves the user’s name: `handle` and message: `message` into the database.\n",
    "- Uses parameterized queries `?` to prevent SQL injection."
   ]
  },
  {
   "cell_type": "markdown",
   "id": "4ed26bf8-453f-428f-8efd-14611bd6d459",
   "metadata": {},
   "source": [
    "### Connecting the UI to the Database (Submit Callback) ###"
   ]
  },
  {
   "cell_type": "markdown",
   "id": "e2f41999-bf37-44f9-a0df-1bc5de6917a6",
   "metadata": {},
   "source": [
    "Now, we need to connect the Submit button to the insert function so that user input is stored when they click the button.\n",
    "\n",
    "We'll write a callback `@app.callback` and function `def submit()` to handle this:"
   ]
  },
  {
   "cell_type": "code",
   "execution_count": null,
   "id": "64ef9562-de2d-471c-a460-8ca38216125f",
   "metadata": {},
   "outputs": [],
   "source": [
    "@app.callback(\n",
    "    Output('submit-confirmation', 'children'), # Updates the confirmation message div\n",
    "    Input('submit-button', 'n_clicks'), # Triggered when the submit button is clicked\n",
    "    State('handle-input', 'value'), # Value from the handle input field\n",
    "    State('message-input', 'value'), # Value from the message input field\n",
    "    prevent_initial_call=True # Prevents the callback from running on app startup\n",
    ")\n",
    "def submit(n_clicks, handle, message):\n",
    "    # Ensures both handle and message are provided and not empty\n",
    "    if not handle or not message or handle.strip() == '' or message.strip() == '':\n",
    "        return dbc.Alert(\"Please enter both a name and a message.\", color=\"danger\")\n",
    "    \n",
    "    # Insert the message into the database\n",
    "    insert_message(handle.strip(), message.strip())\n",
    "    \n",
    "    # Return a success message and thanks the user\n",
    "    return dbc.Alert(\"Message submitted successfully! Thank you!\", color=\"success\")"
   ]
  },
  {
   "cell_type": "markdown",
   "id": "b3653ee9-4ac4-4689-8fef-d5a1f4c92090",
   "metadata": {},
   "source": [
    "What the callback and function does:\n",
    "\n",
    "- Retrieves user input (`handle`, `message`).\n",
    "- Checks if input is empty.\n",
    "- Calls `insert_message()` to store data in the database.\n",
    "- Displays a success message in `submit-confirmation`."
   ]
  },
  {
   "cell_type": "markdown",
   "id": "e83d052c-e25b-41c0-a92f-f18084853ffe",
   "metadata": {},
   "source": [
    "## Viewing User Submissions... ##"
   ]
  },
  {
   "cell_type": "markdown",
   "id": "a1f58194-17bf-4c28-9f5c-0cee8dd8d9b0",
   "metadata": {},
   "source": [
    "In this section, we’ll set up the view system so that users can click “update” to view up to five previously submitted messages randomly selected. By clicking the button, the database will be queried to retrieve handles and messages and display them neatly. Like the submission section, we’ll start by establishing the UI, defining the functions, and connecting them."
   ]
  },
  {
   "cell_type": "markdown",
   "id": "f88173b6-e352-4e69-ba15-436ec8641547",
   "metadata": {},
   "source": [
    "### Creating the UI to Display Messages ###"
   ]
  },
  {
   "cell_type": "markdown",
   "id": "f736430b-6e3e-42e6-bc27-f2b97d09136f",
   "metadata": {},
   "source": [
    "Now, we'll create a user-interface for users to view messages. We'll add another child to our existing `app.layout`:"
   ]
  },
  {
   "cell_type": "code",
   "execution_count": null,
   "id": "d924f166-f5c7-4828-8f26-b04a68978c2a",
   "metadata": {},
   "outputs": [],
   "source": [
    "# App layout with dark theme\n",
    "app.layout = dbc.Container(fluid=True, style={'padding': '20px'}, children=[\n",
    "    html.Div([\n",
    "        html.H1(\"Message Bank\", # Create app title block\n",
    "                className=\"text-center mt-4 mb-4\", \n",
    "                style={'color': '#6f42c1', 'fontWeight': 'bold'}),\n",
    "    ], style={'backgroundColor': 'transparent', 'color': '#ffffff', \n",
    "              'fontFamily': 'Roboto, sans-serif'}), # Change color (hex code) and font\n",
    "    \n",
    "    # Submission Section\n",
    "    dbc.Card(className=\"dark-card\", children=[ # Submission has its own children\n",
    "        dbc.CardBody(className=\"mb-4\", children=[  \n",
    "            html.H2(\"Submit a Message\", # Title for Submission UI\n",
    "                    className=\"card-title mb-3\", \n",
    "                    style={'color': '#6f42c1'}), # Styling\n",
    "            dcc.Input( # Creates input box for user-name\n",
    "                id='handle-input',\n",
    "                type='text',\n",
    "                placeholder='Your name',\n",
    "                className='mb-3 form-control',\n",
    "                style={**custom_css['input-style'], 'height': '45px'} # Global CSS\n",
    "            ),\n",
    "            dcc.Textarea( # Creates message box\n",
    "                id='message-input',\n",
    "                placeholder='Your message...',\n",
    "                className='mb-3 form-control',\n",
    "                style={**custom_css['input-style'], 'height': '150px'}\n",
    "            ),\n",
    "            dbc.Button( # Creates submit button\n",
    "                \"Submit\",\n",
    "                id='submit-button',\n",
    "                color=\"primary\",\n",
    "                className='mb-3 w-100',\n",
    "                style={'backgroundColor': '#6f42c1', 'border': 'none'}\n",
    "            ),\n",
    "            html.Div(id='submit-confirmation') # Creates submission confirmation\n",
    "        ])\n",
    "    ]),\n",
    "    \n",
    "# New Code: ------------------------------------------------------------------\n",
    "    \n",
    "        # View Messages Section\n",
    "        dbc.Card(className=\"dark-card\", children=[\n",
    "            dbc.CardBody([\n",
    "                html.H2(\"View Random Messages\", # Title of Viewing UI\n",
    "                        className=\"card-title mb-3\", \n",
    "                        style={'color': '#ffffff', 'fontFamily': 'Roboto, sans-serif'}),\n",
    "                dbc.Button( # Button to trigger random messages\n",
    "                    \"Update\", \n",
    "                    id='view-button',\n",
    "                    color=\"info\",\n",
    "                    className='mb-3 w-100',\n",
    "                    style={'backgroundColor': '#20c997', 'border': 'none'}\n",
    "                ),\n",
    "                html.Div(id='message-display') # Dynamically updated\n",
    "            ])\n",
    "        ])\n",
    "    ])"
   ]
  },
  {
   "cell_type": "markdown",
   "id": "0607a314-3520-4448-b889-5ca38eab8fd2",
   "metadata": {},
   "source": [
    "What `dbc.card` does:\n",
    "\n",
    "- Adds a button to refresh the displayed messages.\n",
    "- `html.Div(id='message-display')` will be populated dynamically."
   ]
  },
  {
   "cell_type": "markdown",
   "id": "ccefa60f-74f4-42f0-9555-8bfadab6060e",
   "metadata": {},
   "source": [
    "### Fetching Messages from the Database ###"
   ]
  },
  {
   "cell_type": "markdown",
   "id": "8bef35fc-74ba-4418-939f-5cbe8477926d",
   "metadata": {},
   "source": [
    "Now, we'll need a function to retrieve messages for display.\n",
    "\n",
    "We can write a function `def random_messages()` to fetch up to n random messages from the database:"
   ]
  },
  {
   "cell_type": "code",
   "execution_count": null,
   "id": "d0873e83-8a1a-43ee-b330-29e4e20103d9",
   "metadata": {},
   "outputs": [],
   "source": [
    "def random_messages(n=5): # Limit number to 5\n",
    "    db = get_message_db()\n",
    "    cursor = db.cursor()\n",
    "    # Query function with f-string to pass n into query\n",
    "    cursor.execute(f\"SELECT handle, message FROM messages ORDER BY RANDOM() LIMIT {n}\")\n",
    "    messages = cursor.fetchall()\n",
    "    db.close()\n",
    "    global message_db\n",
    "    message_db = None\n",
    "    return messages"
   ]
  },
  {
   "cell_type": "markdown",
   "id": "fdd151b7-3e3f-4f48-b6b8-2973831e4b40",
   "metadata": {},
   "source": [
    "What this function does:\n",
    "\n",
    "- Retrieves up to 5 messages randomly from the database.\n",
    "- Ensures messages appear in a shuffled order."
   ]
  },
  {
   "cell_type": "markdown",
   "id": "2a65dc58-2c95-4e14-b544-b64fc22f5eee",
   "metadata": {},
   "source": [
    "### Connecting the UI to the Database (View Callback) ###"
   ]
  },
  {
   "cell_type": "markdown",
   "id": "ba133920-1168-4054-ba81-30d5d5577a1a",
   "metadata": {},
   "source": [
    "Now, we'll connect the View button to the `random_messages()` function.\n",
    "\n",
    "We'll write a callback `@app.callback` and function `def view()` to handle this:"
   ]
  },
  {
   "cell_type": "code",
   "execution_count": null,
   "id": "a6f982c3-e6b4-4451-bbee-9044b3f06da9",
   "metadata": {},
   "outputs": [],
   "source": [
    "@app.callback(\n",
    "    Output('message-display', 'children'), # Updates the div to display messages\n",
    "    Input('view-button', 'n_clicks'), # Triggered when the view button is clicked\n",
    "    prevent_initial_call=True # Prevents the callback from running on app startup\n",
    ")\n",
    "def view(n_clicks):\n",
    "    \"\"\"Displays a random selection of messages.\"\"\"\n",
    "    # Fetch up to 5 random messages from the database\n",
    "    messages = random_messages(5)\n",
    "    \n",
    "    # If no messages are found, display a placeholder message\n",
    "    if not messages:\n",
    "        return html.P(\"No messages to display.\", style={'color': 'white'})\n",
    "    \n",
    "    # Create a list of styled cards for each message\n",
    "    message_cards = []\n",
    "    for handle, message in messages:\n",
    "        card = dbc.Card(\n",
    "            className=\"mb-3\",\n",
    "            style=custom_css['message-card'],  # Apply custom styling for the card\n",
    "            children=[\n",
    "                dbc.CardBody([\n",
    "                    html.Blockquote(\n",
    "                        className=\"blockquote mb-0\",\n",
    "                        children=[\n",
    "                            # Display the message\n",
    "                            html.P(message, style={'color': '#dee2e6'}),\n",
    "                            html.Footer(\n",
    "                                html.Small(\n",
    "                                    # Display the handle\n",
    "                                    html.I(f\"— {handle}\"),\n",
    "                                    className=\"text-muted\"\n",
    "                                )\n",
    "                            )\n",
    "                        ]\n",
    "                    )\n",
    "                ])\n",
    "            ]\n",
    "        )\n",
    "        message_cards.append(card)  # Add the card to the list\n",
    "    \n",
    "    # Return the list of message cards to be displayed\n",
    "    return message_cards"
   ]
  },
  {
   "cell_type": "markdown",
   "id": "06dfa139-c466-42de-a666-ede02d59e464",
   "metadata": {},
   "source": [
    "What the callback and function does:\n",
    "\n",
    "- Calls `random_messages()` to fetch stored messages.\n",
    "- Displays each message in styled blockquotes."
   ]
  },
  {
   "cell_type": "markdown",
   "id": "34b81232-1565-43b4-b898-eb18404570d6",
   "metadata": {},
   "source": [
    "## Running the Web App ##"
   ]
  },
  {
   "cell_type": "markdown",
   "id": "1d36d0e1-6e7d-4e8e-8988-f5dfb4a9501b",
   "metadata": {},
   "source": [
    "To run the app we need to write one last bit of code to prevent us from accidentally running the code mistakenly as well as defining the port our website will occupy:"
   ]
  },
  {
   "cell_type": "code",
   "execution_count": null,
   "id": "69381421-4eaa-477f-a99d-bfcfa344cc84",
   "metadata": {},
   "outputs": [],
   "source": [
    "# Run the app\n",
    "if __name__ == '__main__':\n",
    "    app.run_server(debug=False, port=8080) # Feel free to change port"
   ]
  },
  {
   "cell_type": "markdown",
   "id": "d06caa67-7166-4cb3-a768-ed8b48f8d966",
   "metadata": {},
   "source": [
    "In the terminal, after changing the directory to our project folder, we can run to launch the web app:"
   ]
  },
  {
   "cell_type": "markdown",
   "id": "ba2623bf-221a-470d-873c-7c99dcd900ae",
   "metadata": {},
   "source": [
    "`python <your filename>.py`"
   ]
  },
  {
   "cell_type": "markdown",
   "id": "4daf308c-9c34-4fa6-a8e2-05ce8ed0a2ee",
   "metadata": {},
   "source": [
    "We'll get a local host link to open in our browser (private browser recommended). We should see something like the initial page shown in the beginning. \n",
    "\n",
    "From here we can type in a name/message and submit as shown:"
   ]
  },
  {
   "cell_type": "markdown",
   "id": "998a093f-4f53-45c2-8db6-2635cd15f25c",
   "metadata": {},
   "source": [
    "![](Web_App2.png)"
   ]
  },
  {
   "cell_type": "markdown",
   "id": "af989706-c5c8-486a-8601-ac348cc7892d",
   "metadata": {},
   "source": [
    "Clicking on the \"Update\" button should show previously submitted messages:"
   ]
  },
  {
   "cell_type": "markdown",
   "id": "81f33011-b407-454e-9a33-a5c98ea38a34",
   "metadata": {},
   "source": [
    "![](Web_App4.png)"
   ]
  },
  {
   "cell_type": "markdown",
   "id": "14a71b25-370f-4d7f-9541-dbf70adff562",
   "metadata": {},
   "source": [
    "Additionally, when a user attempts to submit with either (or both) a missing handle/message, we should see the error message:"
   ]
  },
  {
   "cell_type": "markdown",
   "id": "5d74079a-aaae-417e-ab2d-0d06273639bf",
   "metadata": {
    "tags": []
   },
   "source": [
    "![](Web_App3.png)"
   ]
  },
  {
   "cell_type": "code",
   "execution_count": null,
   "id": "058fd134-0620-47bc-b0e5-3a358554e99d",
   "metadata": {},
   "outputs": [],
   "source": []
  }
 ],
 "metadata": {
  "kernelspec": {
   "display_name": "Python 3 (ipykernel)",
   "language": "python",
   "name": "python3"
  },
  "language_info": {
   "codemirror_mode": {
    "name": "ipython",
    "version": 3
   },
   "file_extension": ".py",
   "mimetype": "text/x-python",
   "name": "python",
   "nbconvert_exporter": "python",
   "pygments_lexer": "ipython3",
   "version": "3.11.5"
  }
 },
 "nbformat": 4,
 "nbformat_minor": 5
}
